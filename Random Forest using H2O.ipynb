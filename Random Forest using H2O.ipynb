{
 "cells": [
  {
   "cell_type": "markdown",
   "metadata": {},
   "source": [
    "# Random Forest using H2O  \n",
    "\n",
    "In this notebook, we attempted to use a different random forest package that didn't require categorical dummy variables. We hypothesized that the dummy variables were hindering the performance of the random forest decision trees since we learned that one hot encoding of categorical variables leads to sparse decision trees and the the one hot encoded variables themselves are not independent even though the decision tree treats them as such. You will see in this notebook, steps for exploding categorical variables into dummy variables like in the other notebooks are skipped.\n",
    "\n",
    "Documentation: http://docs.h2o.ai/h2o/latest-stable/h2o-docs/data-science/drf.html"
   ]
  },
  {
   "cell_type": "markdown",
   "metadata": {},
   "source": [
    "### Load Packages"
   ]
  },
  {
   "cell_type": "code",
   "execution_count": 1,
   "metadata": {},
   "outputs": [],
   "source": [
    "import pandas as pd\n",
    "import numpy as np\n",
    "import matplotlib.pyplot as plt\n",
    "import time\n",
    "from sklearn.preprocessing import StandardScaler\n",
    "from sklearn.metrics import roc_auc_score, accuracy_score, precision_score, recall_score, confusion_matrix\n",
    "import seaborn as sns"
   ]
  },
  {
   "cell_type": "markdown",
   "metadata": {},
   "source": [
    "### Load Data"
   ]
  },
  {
   "cell_type": "code",
   "execution_count": 2,
   "metadata": {},
   "outputs": [
    {
     "name": "stderr",
     "output_type": "stream",
     "text": [
      "C:\\Users\\ssear\\anaconda3\\envs\\py36\\lib\\site-packages\\IPython\\core\\interactiveshell.py:3072: DtypeWarning: Columns (10) have mixed types.Specify dtype option on import or set low_memory=False.\n",
      "  interactivity=interactivity, compiler=compiler, result=result)\n"
     ]
    }
   ],
   "source": [
    "data = pd.read_csv('dataset_diabetes/diabetic_data.csv', na_values = '?')"
   ]
  },
  {
   "cell_type": "markdown",
   "metadata": {},
   "source": [
    "# Data Preparation"
   ]
  },
  {
   "cell_type": "markdown",
   "metadata": {},
   "source": [
    "### Update Diagnosis ID Codes"
   ]
  },
  {
   "cell_type": "code",
   "execution_count": 3,
   "metadata": {},
   "outputs": [],
   "source": [
    "def convert_code(code):\n",
    "    try:\n",
    "        code = float(code)\n",
    "        if code >= 1 and code <= 139:\n",
    "            return 1\n",
    "        elif code >= 140 and code <= 239:\n",
    "            return 2\n",
    "        elif code >= 240 and code <= 279:\n",
    "            return 3\n",
    "        elif code >= 280 and code <= 289:\n",
    "            return 4\n",
    "        elif code >= 290 and code <= 319:\n",
    "            return 5\n",
    "        elif code >= 320 and code <= 389:\n",
    "            return 6\n",
    "        elif code >= 390 and code <= 459:\n",
    "            return 7\n",
    "        elif code >= 460 and code <= 519:\n",
    "            return 8\n",
    "        elif code >= 520 and code <= 579:\n",
    "            return 9\n",
    "        elif code >= 580 and code <= 629:\n",
    "            return 10\n",
    "        elif code >= 630 and code <= 679:\n",
    "            return 11\n",
    "        elif code >= 680 and code <= 709:\n",
    "            return 12\n",
    "        elif code >= 710 and code <= 739:\n",
    "            return 13\n",
    "        elif code >= 740 and code <= 759:\n",
    "            return 14\n",
    "        elif code >= 760 and code <= 779:\n",
    "            return 15\n",
    "        elif code >= 780 and code <= 799:\n",
    "            return 16\n",
    "        elif code >= 800 and code <= 999:\n",
    "            return 17\n",
    "    except:\n",
    "        if 'V' in code:\n",
    "            return 18\n",
    "        elif 'E' in code:\n",
    "            return 19\n",
    "        else:\n",
    "            return 'Code not mapped'\n",
    "\n",
    "data['diag_1_mapped'] = data.diag_1.apply(convert_code)\n",
    "data['diag_2_mapped'] = data.diag_2.apply(convert_code)\n",
    "data['diag_3_mapped'] = data.diag_3.apply(convert_code)"
   ]
  },
  {
   "cell_type": "markdown",
   "metadata": {},
   "source": [
    "### Remove Discharge IDs relating to Hospice or Death"
   ]
  },
  {
   "cell_type": "code",
   "execution_count": 4,
   "metadata": {},
   "outputs": [],
   "source": [
    "data = data.loc[~data.discharge_disposition_id.isin([11,13,14,18,20,21])]"
   ]
  },
  {
   "cell_type": "markdown",
   "metadata": {},
   "source": [
    "### Create Target Variable"
   ]
  },
  {
   "cell_type": "code",
   "execution_count": 5,
   "metadata": {},
   "outputs": [],
   "source": [
    "data['Target_Label'] = (data.readmitted == '<30').astype(int)"
   ]
  },
  {
   "cell_type": "markdown",
   "metadata": {},
   "source": [
    "### Numerical Predictors"
   ]
  },
  {
   "cell_type": "code",
   "execution_count": 6,
   "metadata": {},
   "outputs": [],
   "source": [
    "num_col_names = ['time_in_hospital','num_lab_procedures', 'num_procedures', 'num_medications',\\\n",
    "                 'number_outpatient', 'number_emergency', 'number_inpatient','number_diagnoses']"
   ]
  },
  {
   "cell_type": "markdown",
   "metadata": {},
   "source": [
    "### Categorical Predictors"
   ]
  },
  {
   "cell_type": "code",
   "execution_count": 7,
   "metadata": {},
   "outputs": [],
   "source": [
    "cat_col_names = ['race', 'gender', 'max_glu_serum', 'A1Cresult', 'metformin', 'repaglinide',\\\n",
    "                 'nateglinide', 'chlorpropamide', 'glimepiride', 'acetohexamide', 'glipizide',\\\n",
    "                 'glyburide', 'tolbutamide', 'pioglitazone', 'rosiglitazone', 'acarbose',\\\n",
    "                 'miglitol', 'troglitazone','tolazamide', 'insulin', 'glyburide-metformin',\\\n",
    "                 'glipizide-metformin','glimepiride-pioglitazone', 'metformin-rosiglitazone',\\\n",
    "                 'metformin-pioglitazone', 'change', 'diabetesMed','payer_code', 'medical_specialty']\n",
    "\n",
    "# Fill NA with 'UNK'\n",
    "data['race'] = data['race'].fillna('UNK')\n",
    "data['payer_code'] = data['payer_code'].fillna('UNK')\n",
    "data['medical_specialty'] = data['medical_specialty'].fillna('UNK')\n",
    "data['diag_1_mapped'] = data['diag_1_mapped'].fillna('UNK')\n",
    "data['diag_2_mapped'] = data['diag_2_mapped'].fillna('UNK')\n",
    "data['diag_3_mapped'] = data['diag_3_mapped'].fillna('UNK')\n"
   ]
  },
  {
   "cell_type": "code",
   "execution_count": 8,
   "metadata": {},
   "outputs": [],
   "source": [
    "# Convert Numerical Categorical Columns to strings\n",
    "cat_col_num = ['admission_type_id', 'discharge_disposition_id', 'admission_source_id',\\\n",
    "               'diag_1_mapped', 'diag_2_mapped', 'diag_3_mapped']\n",
    "data[cat_col_num] = data[cat_col_num].astype(str)"
   ]
  },
  {
   "cell_type": "markdown",
   "metadata": {},
   "source": [
    "### Features"
   ]
  },
  {
   "cell_type": "code",
   "execution_count": 9,
   "metadata": {},
   "outputs": [],
   "source": [
    "# Create Age Group Variable\n",
    "age_dict = {'[0-10)':0, \n",
    "            '[10-20)':10, \n",
    "            '[20-30)':20, \n",
    "            '[30-40)':30, \n",
    "            '[40-50)':40, \n",
    "            '[50-60)':50,\n",
    "            '[60-70)':60, \n",
    "            '[70-80)':70, \n",
    "            '[80-90)':80, \n",
    "            '[90-100)':90}\n",
    "data['age_group'] = data.age.replace(age_dict)\n",
    "\n",
    "# Create Age Variable\n",
    "data['has_weight'] = data.weight.notnull().astype('int')\n",
    "\n",
    "# Save feature names\n",
    "features = ['age_group', 'has_weight']"
   ]
  },
  {
   "cell_type": "markdown",
   "metadata": {},
   "source": [
    "### Summary of Variables for Modeling"
   ]
  },
  {
   "cell_type": "code",
   "execution_count": 10,
   "metadata": {},
   "outputs": [
    {
     "name": "stdout",
     "output_type": "stream",
     "text": [
      "Total number of predictors: 45\n",
      "Numerical predictors: 8\n",
      "Categorical predictors: 35\n",
      "Features: 2\n"
     ]
    }
   ],
   "source": [
    "print('Total number of predictors:', len(num_col_names + cat_col_names + cat_col_num + features))\n",
    "print('Numerical predictors:',len(num_col_names))\n",
    "print('Categorical predictors:',len(cat_col_names) + len(cat_col_num))\n",
    "print('Features:',len(features))"
   ]
  },
  {
   "cell_type": "code",
   "execution_count": 11,
   "metadata": {},
   "outputs": [],
   "source": [
    "model_data = data[num_col_names + cat_col_names + cat_col_num + features + ['Target_Label']]"
   ]
  },
  {
   "cell_type": "markdown",
   "metadata": {},
   "source": [
    "# Modeling Prep"
   ]
  },
  {
   "cell_type": "markdown",
   "metadata": {},
   "source": [
    "### Split Data"
   ]
  },
  {
   "cell_type": "code",
   "execution_count": 12,
   "metadata": {},
   "outputs": [],
   "source": [
    "# Shuffle Data\n",
    "model_data = model_data.sample(n=len(model_data),random_state=10)\n",
    "model_data = model_data.reset_index(drop=True)\n",
    "\n",
    "# 20% Validation / 80% Train\n",
    "vd_data = model_data.sample(frac=0.2, random_state=10)\n",
    "train_data = model_data.drop(vd_data.index)"
   ]
  },
  {
   "cell_type": "code",
   "execution_count": 13,
   "metadata": {},
   "outputs": [
    {
     "name": "stdout",
     "output_type": "stream",
     "text": [
      "Readmission Rates by Set\n",
      "Validation:  0.11749947731549237\n",
      "Train:  0.11246863892954213\n"
     ]
    }
   ],
   "source": [
    "print('Readmission Rates by Set')\n",
    "print('Validation: ', vd_data[vd_data['Target_Label']==1].shape[0]/vd_data.shape[0])\n",
    "print('Train: ', train_data[train_data['Target_Label']==1].shape[0]/train_data.shape[0])"
   ]
  },
  {
   "cell_type": "markdown",
   "metadata": {},
   "source": [
    "### Balance Training Data"
   ]
  },
  {
   "cell_type": "code",
   "execution_count": 14,
   "metadata": {},
   "outputs": [
    {
     "name": "stdout",
     "output_type": "stream",
     "text": [
      "Readmission Rates by Set\n",
      "Validation:  0.11749947731549237\n",
      "Train:  0.11246863892954213\n",
      "Train Balanced:  0.5\n"
     ]
    }
   ],
   "source": [
    "# Split training data into positive and negative\n",
    "positive = train_data.Target_Label == 1\n",
    "train_data_pos = train_data.loc[positive]\n",
    "train_data_neg = train_data.loc[~positive]\n",
    "\n",
    "# Merge and Balance\n",
    "train_data_balanced = pd.concat([train_data_pos, train_data_neg.sample(n = len(train_data_pos), random_state=10)], axis = 0)\n",
    "\n",
    "# Shuffle\n",
    "train_data_balanced = train_data_balanced.sample(n = len(train_data_balanced), random_state = 10).reset_index(drop=True)\n",
    "\n",
    "print('Readmission Rates by Set')\n",
    "print('Validation: ', vd_data[vd_data['Target_Label']==1].shape[0]/vd_data.shape[0])\n",
    "print('Train: ', train_data[train_data['Target_Label']==1].shape[0]/train_data.shape[0])\n",
    "print('Train Balanced: ', train_data_balanced[train_data_balanced['Target_Label']==1].shape[0]/train_data_balanced.shape[0])"
   ]
  },
  {
   "cell_type": "code",
   "execution_count": 15,
   "metadata": {},
   "outputs": [],
   "source": [
    "train_data.to_csv('diabetes_train.csv', index=False)\n",
    "vd_data.to_csv('diabetes_vd.csv', index=False)"
   ]
  },
  {
   "cell_type": "markdown",
   "metadata": {},
   "source": [
    "# Modeling"
   ]
  },
  {
   "cell_type": "code",
   "execution_count": 16,
   "metadata": {},
   "outputs": [],
   "source": [
    "def report(actual, predicted):\n",
    "    AUC = roc_auc_score(actual, predicted)\n",
    "    accuracy = accuracy_score(actual, predicted)\n",
    "    precision = precision_score(actual, predicted)\n",
    "    recall = recall_score(actual, predicted)\n",
    "    print('AUC: ', AUC)\n",
    "    print('Accuracy: ', accuracy)\n",
    "    print('Precision: ', precision)\n",
    "    print('Recall: ', recall)\n",
    "    print('Confusion Matrix:')\n",
    "    conf_matrix = confusion_matrix(actual, predicted)\n",
    "    group_names = ['True Neg','False Pos','False Neg','True Pos']\n",
    "    group_counts = ['{0:0.0f}'.format(value) for value in conf_matrix.flatten()]\n",
    "    group_percentages = ['{0:.2%}'.format(value) for value in conf_matrix.flatten()/np.sum(conf_matrix)]\n",
    "    labels = [f'{v1}\\n{v2}\\n{v3}' for v1, v2, v3 in zip(group_names,group_counts,group_percentages)]\n",
    "    labels = np.asarray(labels).reshape(2,2)\n",
    "    sns.heatmap(conf_matrix, annot=labels, fmt='', cmap='Blues') \n",
    "    cost = ((int(group_counts[1])*1780)+(int(group_counts[2])*14400))/len(actual)\n",
    "    print('Cost: ',cost)\n",
    "    \n",
    "    return AUC, accuracy, precision, recall, cost"
   ]
  },
  {
   "cell_type": "markdown",
   "metadata": {},
   "source": [
    "### Random Forest with H2O"
   ]
  },
  {
   "cell_type": "code",
   "execution_count": 17,
   "metadata": {},
   "outputs": [
    {
     "name": "stdout",
     "output_type": "stream",
     "text": [
      "Checking whether there is an H2O instance running at http://localhost:54321 ..... not found.\n",
      "Attempting to start a local H2O server...\n",
      "; OpenJDK 64-Bit Server VM (build 11.0.6+8-b765.1, mixed mode)\n",
      "  Starting server from C:\\Users\\ssear\\anaconda3\\envs\\py36\\lib\\site-packages\\h2o\\backend\\bin\\h2o.jar\n",
      "  Ice root: C:\\Users\\ssear\\AppData\\Local\\Temp\\tmpmfwwgni7\n",
      "  JVM stdout: C:\\Users\\ssear\\AppData\\Local\\Temp\\tmpmfwwgni7\\h2o_ssear_started_from_python.out\n",
      "  JVM stderr: C:\\Users\\ssear\\AppData\\Local\\Temp\\tmpmfwwgni7\\h2o_ssear_started_from_python.err\n",
      "  Server is running at http://127.0.0.1:54321\n",
      "Connecting to H2O server at http://127.0.0.1:54321 ... successful.\n",
      "Warning: Your H2O cluster version is too old (5 months and 13 days)! Please download and install the latest version from http://h2o.ai/download/\n"
     ]
    },
    {
     "data": {
      "text/html": [
       "<div style=\"overflow:auto\"><table style=\"width:50%\"><tr><td>H2O_cluster_uptime:</td>\n",
       "<td>04 secs</td></tr>\n",
       "<tr><td>H2O_cluster_timezone:</td>\n",
       "<td>America/Chicago</td></tr>\n",
       "<tr><td>H2O_data_parsing_timezone:</td>\n",
       "<td>UTC</td></tr>\n",
       "<tr><td>H2O_cluster_version:</td>\n",
       "<td>3.30.0.4</td></tr>\n",
       "<tr><td>H2O_cluster_version_age:</td>\n",
       "<td>5 months and 13 days !!!</td></tr>\n",
       "<tr><td>H2O_cluster_name:</td>\n",
       "<td>H2O_from_python_ssear_9f5857</td></tr>\n",
       "<tr><td>H2O_cluster_total_nodes:</td>\n",
       "<td>1</td></tr>\n",
       "<tr><td>H2O_cluster_free_memory:</td>\n",
       "<td>5.973 Gb</td></tr>\n",
       "<tr><td>H2O_cluster_total_cores:</td>\n",
       "<td>4</td></tr>\n",
       "<tr><td>H2O_cluster_allowed_cores:</td>\n",
       "<td>4</td></tr>\n",
       "<tr><td>H2O_cluster_status:</td>\n",
       "<td>accepting new members, healthy</td></tr>\n",
       "<tr><td>H2O_connection_url:</td>\n",
       "<td>http://127.0.0.1:54321</td></tr>\n",
       "<tr><td>H2O_connection_proxy:</td>\n",
       "<td>{\"http\": null, \"https\": null}</td></tr>\n",
       "<tr><td>H2O_internal_security:</td>\n",
       "<td>False</td></tr>\n",
       "<tr><td>H2O_API_Extensions:</td>\n",
       "<td>Amazon S3, Algos, AutoML, Core V3, TargetEncoder, Core V4</td></tr>\n",
       "<tr><td>Python_version:</td>\n",
       "<td>3.6.10 final</td></tr></table></div>"
      ],
      "text/plain": [
       "--------------------------  ---------------------------------------------------------\n",
       "H2O_cluster_uptime:         04 secs\n",
       "H2O_cluster_timezone:       America/Chicago\n",
       "H2O_data_parsing_timezone:  UTC\n",
       "H2O_cluster_version:        3.30.0.4\n",
       "H2O_cluster_version_age:    5 months and 13 days !!!\n",
       "H2O_cluster_name:           H2O_from_python_ssear_9f5857\n",
       "H2O_cluster_total_nodes:    1\n",
       "H2O_cluster_free_memory:    5.973 Gb\n",
       "H2O_cluster_total_cores:    4\n",
       "H2O_cluster_allowed_cores:  4\n",
       "H2O_cluster_status:         accepting new members, healthy\n",
       "H2O_connection_url:         http://127.0.0.1:54321\n",
       "H2O_connection_proxy:       {\"http\": null, \"https\": null}\n",
       "H2O_internal_security:      False\n",
       "H2O_API_Extensions:         Amazon S3, Algos, AutoML, Core V3, TargetEncoder, Core V4\n",
       "Python_version:             3.6.10 final\n",
       "--------------------------  ---------------------------------------------------------"
      ]
     },
     "metadata": {},
     "output_type": "display_data"
    }
   ],
   "source": [
    "import h2o\n",
    "from h2o.estimators import H2ORandomForestEstimator\n",
    "h2o.init()"
   ]
  },
  {
   "cell_type": "code",
   "execution_count": 18,
   "metadata": {},
   "outputs": [
    {
     "name": "stdout",
     "output_type": "stream",
     "text": [
      "Parse progress: |█████████████████████████████████████████████████████████| 100%\n",
      "Parse progress: |█████████████████████████████████████████████████████████| 100%\n"
     ]
    }
   ],
   "source": [
    "# Load data as frame\n",
    "train_data = h2o.import_file('diabetes_train.csv')\n",
    "validation_data = h2o.import_file('diabetes_vd.csv')"
   ]
  },
  {
   "cell_type": "code",
   "execution_count": 19,
   "metadata": {},
   "outputs": [],
   "source": [
    "# Set predictor and response columns\n",
    "training_columns = num_col_names + cat_col_names + cat_col_num + features\n",
    "response_column = 'Target_Label'"
   ]
  },
  {
   "cell_type": "code",
   "execution_count": 20,
   "metadata": {},
   "outputs": [],
   "source": [
    "# Set Model\n",
    "drf = H2ORandomForestEstimator(ntrees=1000, max_depth=500, stopping_metric='AUC')"
   ]
  },
  {
   "cell_type": "code",
   "execution_count": 21,
   "metadata": {},
   "outputs": [
    {
     "name": "stdout",
     "output_type": "stream",
     "text": [
      "drf Model Build progress: |███████████████████████████████████████████████| 100%\n"
     ]
    }
   ],
   "source": [
    "# Fit Model\n",
    "drf.train(x=training_columns, y=response_column, training_frame=train_data)"
   ]
  },
  {
   "cell_type": "code",
   "execution_count": 22,
   "metadata": {},
   "outputs": [
    {
     "name": "stdout",
     "output_type": "stream",
     "text": [
      "drf prediction progress: |████████████████████████████████████████████████| 100%\n"
     ]
    },
    {
     "name": "stderr",
     "output_type": "stream",
     "text": [
      "C:\\Users\\ssear\\anaconda3\\envs\\py36\\lib\\site-packages\\h2o\\job.py:70: UserWarning: Test/Validation dataset column 'chlorpropamide' has levels not trained on: [Down]\n",
      "  warnings.warn(w)\n",
      "C:\\Users\\ssear\\anaconda3\\envs\\py36\\lib\\site-packages\\h2o\\job.py:70: UserWarning: Test/Validation dataset column 'payer_code' has levels not trained on: [FR]\n",
      "  warnings.warn(w)\n",
      "C:\\Users\\ssear\\anaconda3\\envs\\py36\\lib\\site-packages\\h2o\\job.py:70: UserWarning: Test/Validation dataset column 'medical_specialty' has levels not trained on: [Dermatology, Pediatrics-InfectiousDiseases, Perinatology, SportsMedicine, Surgery-PlasticwithinHeadandNeck]\n",
      "  warnings.warn(w)\n"
     ]
    }
   ],
   "source": [
    "# Get Predictions\n",
    "predictions = drf.predict(validation_data)"
   ]
  },
  {
   "cell_type": "code",
   "execution_count": 23,
   "metadata": {},
   "outputs": [],
   "source": [
    "# Get predictions and vd back into a pandas df\n",
    "predictions_as_df = h2o.as_list(predictions)\n",
    "vd_as_df = h2o.as_list(validation_data)\n",
    "vd_as_df['prediction'] = predictions_as_df\n",
    "vd_as_df['prediction'] = vd_as_df['prediction'].round(0)\n",
    "vd_as_df['prediction'] = vd_as_df['prediction'].astype(int)"
   ]
  },
  {
   "cell_type": "markdown",
   "metadata": {},
   "source": [
    "# Results"
   ]
  },
  {
   "cell_type": "code",
   "execution_count": 24,
   "metadata": {},
   "outputs": [
    {
     "name": "stdout",
     "output_type": "stream",
     "text": [
      "Validation:\n",
      "AUC:  0.5118046439552787\n",
      "Accuracy:  0.8835981601505332\n",
      "Precision:  0.6105263157894737\n",
      "Recall:  0.025800711743772242\n",
      "Confusion Matrix:\n",
      "Cost:  1651.780263432992\n"
     ]
    },
    {
     "data": {
      "image/png": "[encoded data removed]",
      "text/plain": [
       "<Figure size 432x288 with 2 Axes>"
      ]
     },
     "metadata": {
      "needs_background": "light"
     },
     "output_type": "display_data"
    }
   ],
   "source": [
    "print('Validation:')\n",
    "rf_vd_AUC, rf_vd_accuracy, rf_vd_precision, rf_vd_recall, rf_vd_cost = report(vd_as_df.Target_Label, vd_as_df.prediction)"
   ]
  },
  {
   "cell_type": "markdown",
   "metadata": {},
   "source": [
    "**Conclusion**: The H2O package was useful in that it did not require the categorical variables to be split into dummy variables. Surprisingly, this did not result in better model performance. "
   ]
  }
 ],
 "metadata": {
  "kernelspec": {
   "display_name": "Python 3",
   "language": "python",
   "name": "python3"
  },
  "language_info": {
   "codemirror_mode": {
    "name": "ipython",
    "version": 3
   },
   "file_extension": ".py",
   "mimetype": "text/x-python",
   "name": "python",
   "nbconvert_exporter": "python",
   "pygments_lexer": "ipython3",
   "version": "3.6.10"
  }
 },
 "nbformat": 4,
 "nbformat_minor": 4
}
