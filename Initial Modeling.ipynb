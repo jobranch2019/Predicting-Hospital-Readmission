{
 "cells": [
  {
   "cell_type": "markdown",
   "metadata": {},
   "source": [
    "# Initial Modeling  \n",
    "\n",
    "Since this project had been completed before and we are still students developing our skills, we decided to start off by starting with a previous example conducted by Andrew Long. The following code is based loosely off his notebook which can be found at https://github.com/andrewwlong/diabetes_readmission/blob/master/diabetes_project.ipynb.  \n",
    "\n",
    "For displaying the confusion matrix, code was taken from a Medium article by Dennis T https://medium.com/@dtuk81/confusion-matrix-visualization-fc31e3f30fea."
   ]
  },
  {
   "cell_type": "markdown",
   "metadata": {},
   "source": [
    "### Packages"
   ]
  },
  {
   "cell_type": "code",
   "execution_count": 5,
   "metadata": {},
   "outputs": [],
   "source": [
    "import pandas as pd\n",
    "import numpy as np\n",
    "import matplotlib.pyplot as plt\n",
    "import time\n",
    "from sklearn.preprocessing import StandardScaler\n",
    "from sklearn.metrics import roc_auc_score, accuracy_score, precision_score, recall_score, confusion_matrix\n",
    "import seaborn as sns"
   ]
  },
  {
   "cell_type": "markdown",
   "metadata": {},
   "source": [
    "### Load Data"
   ]
  },
  {
   "cell_type": "code",
   "execution_count": 6,
   "metadata": {},
   "outputs": [
    {
     "name": "stderr",
     "output_type": "stream",
     "text": [
      "C:\\Users\\ssear\\anaconda3\\lib\\site-packages\\IPython\\core\\interactiveshell.py:3063: DtypeWarning: Columns (10) have mixed types.Specify dtype option on import or set low_memory=False.\n",
      "  interactivity=interactivity, compiler=compiler, result=result)\n"
     ]
    },
    {
     "name": "stdout",
     "output_type": "stream",
     "text": [
      "<class 'pandas.core.frame.DataFrame'>\n",
      "RangeIndex: 101766 entries, 0 to 101765\n",
      "Data columns (total 50 columns):\n",
      " #   Column                    Non-Null Count   Dtype \n",
      "---  ------                    --------------   ----- \n",
      " 0   encounter_id              101766 non-null  int64 \n",
      " 1   patient_nbr               101766 non-null  int64 \n",
      " 2   race                      99493 non-null   object\n",
      " 3   gender                    101766 non-null  object\n",
      " 4   age                       101766 non-null  object\n",
      " 5   weight                    3197 non-null    object\n",
      " 6   admission_type_id         101766 non-null  int64 \n",
      " 7   discharge_disposition_id  101766 non-null  int64 \n",
      " 8   admission_source_id       101766 non-null  int64 \n",
      " 9   time_in_hospital          101766 non-null  int64 \n",
      " 10  payer_code                61510 non-null   object\n",
      " 11  medical_specialty         51817 non-null   object\n",
      " 12  num_lab_procedures        101766 non-null  int64 \n",
      " 13  num_procedures            101766 non-null  int64 \n",
      " 14  num_medications           101766 non-null  int64 \n",
      " 15  number_outpatient         101766 non-null  int64 \n",
      " 16  number_emergency          101766 non-null  int64 \n",
      " 17  number_inpatient          101766 non-null  int64 \n",
      " 18  diag_1                    101745 non-null  object\n",
      " 19  diag_2                    101408 non-null  object\n",
      " 20  diag_3                    100343 non-null  object\n",
      " 21  number_diagnoses          101766 non-null  int64 \n",
      " 22  max_glu_serum             101766 non-null  object\n",
      " 23  A1Cresult                 101766 non-null  object\n",
      " 24  metformin                 101766 non-null  object\n",
      " 25  repaglinide               101766 non-null  object\n",
      " 26  nateglinide               101766 non-null  object\n",
      " 27  chlorpropamide            101766 non-null  object\n",
      " 28  glimepiride               101766 non-null  object\n",
      " 29  acetohexamide             101766 non-null  object\n",
      " 30  glipizide                 101766 non-null  object\n",
      " 31  glyburide                 101766 non-null  object\n",
      " 32  tolbutamide               101766 non-null  object\n",
      " 33  pioglitazone              101766 non-null  object\n",
      " 34  rosiglitazone             101766 non-null  object\n",
      " 35  acarbose                  101766 non-null  object\n",
      " 36  miglitol                  101766 non-null  object\n",
      " 37  troglitazone              101766 non-null  object\n",
      " 38  tolazamide                101766 non-null  object\n",
      " 39  examide                   101766 non-null  object\n",
      " 40  citoglipton               101766 non-null  object\n",
      " 41  insulin                   101766 non-null  object\n",
      " 42  glyburide-metformin       101766 non-null  object\n",
      " 43  glipizide-metformin       101766 non-null  object\n",
      " 44  glimepiride-pioglitazone  101766 non-null  object\n",
      " 45  metformin-rosiglitazone   101766 non-null  object\n",
      " 46  metformin-pioglitazone    101766 non-null  object\n",
      " 47  change                    101766 non-null  object\n",
      " 48  diabetesMed               101766 non-null  object\n",
      " 49  readmitted                101766 non-null  object\n",
      "dtypes: int64(13), object(37)\n",
      "memory usage: 38.8+ MB\n"
     ]
    }
   ],
   "source": [
    "data = pd.read_csv('dataset_diabetes/diabetic_data.csv', na_values = '?')\n",
    "data.info()"
   ]
  },
  {
   "cell_type": "markdown",
   "metadata": {},
   "source": [
    "# Data Preparation"
   ]
  },
  {
   "cell_type": "markdown",
   "metadata": {},
   "source": [
    "### Remove Discharge IDs relating to Hospice or Death"
   ]
  },
  {
   "cell_type": "code",
   "execution_count": 7,
   "metadata": {},
   "outputs": [],
   "source": [
    "data = data.loc[~data.discharge_disposition_id.isin([11,13,14,18,20,21])]"
   ]
  },
  {
   "cell_type": "markdown",
   "metadata": {},
   "source": [
    "### Create Target Variable"
   ]
  },
  {
   "cell_type": "code",
   "execution_count": 8,
   "metadata": {},
   "outputs": [],
   "source": [
    "data['Target_Label'] = (data.readmitted == '<30').astype(int)"
   ]
  },
  {
   "cell_type": "markdown",
   "metadata": {},
   "source": [
    "### Numerical Predictors"
   ]
  },
  {
   "cell_type": "code",
   "execution_count": 9,
   "metadata": {},
   "outputs": [],
   "source": [
    "num_col_names = ['time_in_hospital','num_lab_procedures', 'num_procedures', 'num_medications',\\\n",
    "                 'number_outpatient', 'number_emergency', 'number_inpatient','number_diagnoses']"
   ]
  },
  {
   "cell_type": "markdown",
   "metadata": {},
   "source": [
    "### Categorical Predictors"
   ]
  },
  {
   "cell_type": "code",
   "execution_count": 10,
   "metadata": {},
   "outputs": [
    {
     "data": {
      "text/html": [
       "<div>\n",
       "<style scoped>\n",
       "    .dataframe tbody tr th:only-of-type {\n",
       "        vertical-align: middle;\n",
       "    }\n",
       "\n",
       "    .dataframe tbody tr th {\n",
       "        vertical-align: top;\n",
       "    }\n",
       "\n",
       "    .dataframe thead th {\n",
       "        text-align: right;\n",
       "    }\n",
       "</style>\n",
       "<table border=\"1\" class=\"dataframe\">\n",
       "  <thead>\n",
       "    <tr style=\"text-align: right;\">\n",
       "      <th></th>\n",
       "      <th>race_Asian</th>\n",
       "      <th>race_Caucasian</th>\n",
       "      <th>race_Hispanic</th>\n",
       "      <th>race_Other</th>\n",
       "      <th>race_UNK</th>\n",
       "      <th>gender_Male</th>\n",
       "      <th>gender_Unknown/Invalid</th>\n",
       "      <th>max_glu_serum_&gt;300</th>\n",
       "      <th>max_glu_serum_None</th>\n",
       "      <th>max_glu_serum_Norm</th>\n",
       "      <th>...</th>\n",
       "      <th>med_spec_new_Emergency/Trauma</th>\n",
       "      <th>med_spec_new_Family/GeneralPractice</th>\n",
       "      <th>med_spec_new_InternalMedicine</th>\n",
       "      <th>med_spec_new_Nephrology</th>\n",
       "      <th>med_spec_new_Orthopedics</th>\n",
       "      <th>med_spec_new_Orthopedics-Reconstructive</th>\n",
       "      <th>med_spec_new_Other</th>\n",
       "      <th>med_spec_new_Radiologist</th>\n",
       "      <th>med_spec_new_Surgery-General</th>\n",
       "      <th>med_spec_new_UNK</th>\n",
       "    </tr>\n",
       "  </thead>\n",
       "  <tbody>\n",
       "    <tr>\n",
       "      <th>0</th>\n",
       "      <td>0</td>\n",
       "      <td>1</td>\n",
       "      <td>0</td>\n",
       "      <td>0</td>\n",
       "      <td>0</td>\n",
       "      <td>0</td>\n",
       "      <td>0</td>\n",
       "      <td>0</td>\n",
       "      <td>1</td>\n",
       "      <td>0</td>\n",
       "      <td>...</td>\n",
       "      <td>0</td>\n",
       "      <td>0</td>\n",
       "      <td>0</td>\n",
       "      <td>0</td>\n",
       "      <td>0</td>\n",
       "      <td>0</td>\n",
       "      <td>1</td>\n",
       "      <td>0</td>\n",
       "      <td>0</td>\n",
       "      <td>0</td>\n",
       "    </tr>\n",
       "    <tr>\n",
       "      <th>1</th>\n",
       "      <td>0</td>\n",
       "      <td>1</td>\n",
       "      <td>0</td>\n",
       "      <td>0</td>\n",
       "      <td>0</td>\n",
       "      <td>0</td>\n",
       "      <td>0</td>\n",
       "      <td>0</td>\n",
       "      <td>1</td>\n",
       "      <td>0</td>\n",
       "      <td>...</td>\n",
       "      <td>0</td>\n",
       "      <td>0</td>\n",
       "      <td>0</td>\n",
       "      <td>0</td>\n",
       "      <td>0</td>\n",
       "      <td>0</td>\n",
       "      <td>0</td>\n",
       "      <td>0</td>\n",
       "      <td>0</td>\n",
       "      <td>1</td>\n",
       "    </tr>\n",
       "    <tr>\n",
       "      <th>2</th>\n",
       "      <td>0</td>\n",
       "      <td>0</td>\n",
       "      <td>0</td>\n",
       "      <td>0</td>\n",
       "      <td>0</td>\n",
       "      <td>0</td>\n",
       "      <td>0</td>\n",
       "      <td>0</td>\n",
       "      <td>1</td>\n",
       "      <td>0</td>\n",
       "      <td>...</td>\n",
       "      <td>0</td>\n",
       "      <td>0</td>\n",
       "      <td>0</td>\n",
       "      <td>0</td>\n",
       "      <td>0</td>\n",
       "      <td>0</td>\n",
       "      <td>0</td>\n",
       "      <td>0</td>\n",
       "      <td>0</td>\n",
       "      <td>1</td>\n",
       "    </tr>\n",
       "    <tr>\n",
       "      <th>3</th>\n",
       "      <td>0</td>\n",
       "      <td>1</td>\n",
       "      <td>0</td>\n",
       "      <td>0</td>\n",
       "      <td>0</td>\n",
       "      <td>1</td>\n",
       "      <td>0</td>\n",
       "      <td>0</td>\n",
       "      <td>1</td>\n",
       "      <td>0</td>\n",
       "      <td>...</td>\n",
       "      <td>0</td>\n",
       "      <td>0</td>\n",
       "      <td>0</td>\n",
       "      <td>0</td>\n",
       "      <td>0</td>\n",
       "      <td>0</td>\n",
       "      <td>0</td>\n",
       "      <td>0</td>\n",
       "      <td>0</td>\n",
       "      <td>1</td>\n",
       "    </tr>\n",
       "    <tr>\n",
       "      <th>4</th>\n",
       "      <td>0</td>\n",
       "      <td>1</td>\n",
       "      <td>0</td>\n",
       "      <td>0</td>\n",
       "      <td>0</td>\n",
       "      <td>1</td>\n",
       "      <td>0</td>\n",
       "      <td>0</td>\n",
       "      <td>1</td>\n",
       "      <td>0</td>\n",
       "      <td>...</td>\n",
       "      <td>0</td>\n",
       "      <td>0</td>\n",
       "      <td>0</td>\n",
       "      <td>0</td>\n",
       "      <td>0</td>\n",
       "      <td>0</td>\n",
       "      <td>0</td>\n",
       "      <td>0</td>\n",
       "      <td>0</td>\n",
       "      <td>1</td>\n",
       "    </tr>\n",
       "  </tbody>\n",
       "</table>\n",
       "<p>5 rows × 132 columns</p>\n",
       "</div>"
      ],
      "text/plain": [
       "   race_Asian  race_Caucasian  race_Hispanic  race_Other  race_UNK  \\\n",
       "0           0               1              0           0         0   \n",
       "1           0               1              0           0         0   \n",
       "2           0               0              0           0         0   \n",
       "3           0               1              0           0         0   \n",
       "4           0               1              0           0         0   \n",
       "\n",
       "   gender_Male  gender_Unknown/Invalid  max_glu_serum_>300  \\\n",
       "0            0                       0                   0   \n",
       "1            0                       0                   0   \n",
       "2            0                       0                   0   \n",
       "3            1                       0                   0   \n",
       "4            1                       0                   0   \n",
       "\n",
       "   max_glu_serum_None  max_glu_serum_Norm  ...  med_spec_new_Emergency/Trauma  \\\n",
       "0                   1                   0  ...                              0   \n",
       "1                   1                   0  ...                              0   \n",
       "2                   1                   0  ...                              0   \n",
       "3                   1                   0  ...                              0   \n",
       "4                   1                   0  ...                              0   \n",
       "\n",
       "   med_spec_new_Family/GeneralPractice  med_spec_new_InternalMedicine  \\\n",
       "0                                    0                              0   \n",
       "1                                    0                              0   \n",
       "2                                    0                              0   \n",
       "3                                    0                              0   \n",
       "4                                    0                              0   \n",
       "\n",
       "   med_spec_new_Nephrology  med_spec_new_Orthopedics  \\\n",
       "0                        0                         0   \n",
       "1                        0                         0   \n",
       "2                        0                         0   \n",
       "3                        0                         0   \n",
       "4                        0                         0   \n",
       "\n",
       "   med_spec_new_Orthopedics-Reconstructive  med_spec_new_Other  \\\n",
       "0                                        0                   1   \n",
       "1                                        0                   0   \n",
       "2                                        0                   0   \n",
       "3                                        0                   0   \n",
       "4                                        0                   0   \n",
       "\n",
       "   med_spec_new_Radiologist  med_spec_new_Surgery-General  med_spec_new_UNK  \n",
       "0                         0                             0                 0  \n",
       "1                         0                             0                 1  \n",
       "2                         0                             0                 1  \n",
       "3                         0                             0                 1  \n",
       "4                         0                             0                 1  \n",
       "\n",
       "[5 rows x 132 columns]"
      ]
     },
     "execution_count": 10,
     "metadata": {},
     "output_type": "execute_result"
    }
   ],
   "source": [
    "cat_col_names = ['race', 'gender', 'max_glu_serum', 'A1Cresult', 'metformin', 'repaglinide',\\\n",
    "                 'nateglinide', 'chlorpropamide', 'glimepiride', 'acetohexamide', 'glipizide',\\\n",
    "                 'glyburide', 'tolbutamide', 'pioglitazone', 'rosiglitazone', 'acarbose',\\\n",
    "                 'miglitol', 'troglitazone','tolazamide', 'insulin', 'glyburide-metformin',\\\n",
    "                 'glipizide-metformin','glimepiride-pioglitazone', 'metformin-rosiglitazone',\\\n",
    "                 'metformin-pioglitazone', 'change', 'diabetesMed','payer_code']\n",
    "\n",
    "# Fill NA with 'UNK'\n",
    "data['race'] = data['race'].fillna('UNK')\n",
    "data['payer_code'] = data['payer_code'].fillna('UNK')\n",
    "data['medical_specialty'] = data['medical_specialty'].fillna('UNK')\n",
    "\n",
    "# Get top 10 medical specialties\n",
    "top_10_spec = list(data['medical_specialty'].value_counts(dropna=False)[0:10].index)\n",
    "\n",
    "# New medical_specialty column\n",
    "data['med_spec_new'] = data['medical_specialty'].copy()\n",
    "\n",
    "# Replace values with 'Other' if not in Top 10\n",
    "data.loc[~data.med_spec_new.isin(top_10_spec), 'med_spec_new'] = 'Other'\n",
    "\n",
    "# Convert Numerical Categorical Columns to strings\n",
    "cat_col_num = ['admission_type_id', 'discharge_disposition_id', 'admission_source_id']\n",
    "data[cat_col_num] = data[cat_col_num].astype(str)\n",
    "\n",
    "# Create Categorical Predictors DataFrame\n",
    "data_cat = pd.get_dummies(data[cat_col_names + cat_col_num + ['med_spec_new']], drop_first = True)\n",
    "\n",
    "data_cat.head()"
   ]
  },
  {
   "cell_type": "code",
   "execution_count": 11,
   "metadata": {},
   "outputs": [],
   "source": [
    "# Add Categorical Predictor Variables to main DataFrame\n",
    "data = pd.concat([data, data_cat], axis = 1)\n",
    "\n",
    "# Retain columns of data_cat\n",
    "data_cat_cols = list(data_cat.columns)"
   ]
  },
  {
   "cell_type": "markdown",
   "metadata": {},
   "source": [
    "### Other Features"
   ]
  },
  {
   "cell_type": "code",
   "execution_count": 12,
   "metadata": {},
   "outputs": [],
   "source": [
    "# Create Age Group Variable\n",
    "age_dict = {'[0-10)':0, \n",
    "            '[10-20)':10, \n",
    "            '[20-30)':20, \n",
    "            '[30-40)':30, \n",
    "            '[40-50)':40, \n",
    "            '[50-60)':50,\n",
    "            '[60-70)':60, \n",
    "            '[70-80)':70, \n",
    "            '[80-90)':80, \n",
    "            '[90-100)':90}\n",
    "data['age_group'] = data.age.replace(age_dict)\n",
    "\n",
    "# Create Age Variable\n",
    "data['has_weight'] = data.weight.notnull().astype('int')\n",
    "\n",
    "# Save feature names\n",
    "features = ['age_group', 'has_weight']"
   ]
  },
  {
   "cell_type": "markdown",
   "metadata": {},
   "source": [
    "### Summary of Variables for Modeling"
   ]
  },
  {
   "cell_type": "code",
   "execution_count": 13,
   "metadata": {},
   "outputs": [
    {
     "name": "stdout",
     "output_type": "stream",
     "text": [
      "Total number of predictors: 142\n",
      "Numerical predictors: 8\n",
      "Categorical predictors: 132\n",
      "Features: 2\n"
     ]
    }
   ],
   "source": [
    "print('Total number of predictors:', len(num_col_names + data_cat_cols + features))\n",
    "print('Numerical predictors:',len(num_col_names))\n",
    "print('Categorical predictors:',len(data_cat_cols))\n",
    "print('Features:',len(features))"
   ]
  },
  {
   "cell_type": "code",
   "execution_count": 14,
   "metadata": {},
   "outputs": [
    {
     "data": {
      "text/plain": [
       "has_weight                     0\n",
       "pioglitazone_No                0\n",
       "acarbose_No                    0\n",
       "rosiglitazone_Up               0\n",
       "rosiglitazone_Steady           0\n",
       "                              ..\n",
       "discharge_disposition_id_2     0\n",
       "discharge_disposition_id_22    0\n",
       "discharge_disposition_id_23    0\n",
       "discharge_disposition_id_24    0\n",
       "time_in_hospital               0\n",
       "Length: 142, dtype: int64"
      ]
     },
     "execution_count": 14,
     "metadata": {},
     "output_type": "execute_result"
    }
   ],
   "source": [
    "# Check Missing Data\n",
    "data[num_col_names + data_cat_cols + features].isnull().sum().sort_values(ascending=False)"
   ]
  },
  {
   "cell_type": "code",
   "execution_count": 15,
   "metadata": {},
   "outputs": [],
   "source": [
    "# Dataframe for modeling\n",
    "model_data = data[num_col_names + data_cat_cols + features + ['Target_Label']]"
   ]
  },
  {
   "cell_type": "markdown",
   "metadata": {},
   "source": [
    "# Modeling Prep"
   ]
  },
  {
   "cell_type": "markdown",
   "metadata": {},
   "source": [
    "### Split Data"
   ]
  },
  {
   "cell_type": "code",
   "execution_count": 16,
   "metadata": {},
   "outputs": [],
   "source": [
    "# Shuffle Data\n",
    "model_data = model_data.sample(n=len(model_data),random_state=10)\n",
    "model_data = model_data.reset_index(drop=True)\n",
    "\n",
    "# 15% Validation / 15% Test split / 70% Train\n",
    "vd_test = model_data.sample(frac=0.3, random_state=10)\n",
    "test_data = vd_test.sample(frac=0.5, random_state=10)\n",
    "vd_data = vd_test.drop(test_data.index)\n",
    "train_data = model_data.drop(vd_test.index)"
   ]
  },
  {
   "cell_type": "code",
   "execution_count": 17,
   "metadata": {},
   "outputs": [
    {
     "name": "stdout",
     "output_type": "stream",
     "text": [
      "Readmission Rates by Set\n",
      "Test:  0.1140149139312844\n",
      "Validation:  0.11749947731549237\n",
      "Train:  0.11249663988530809\n"
     ]
    }
   ],
   "source": [
    "print('Readmission Rates by Set')\n",
    "print('Test: ', test_data[test_data['Target_Label']==1].shape[0]/test_data.shape[0])\n",
    "print('Validation: ', vd_data[vd_data['Target_Label']==1].shape[0]/vd_data.shape[0])\n",
    "print('Train: ', train_data[train_data['Target_Label']==1].shape[0]/train_data.shape[0])"
   ]
  },
  {
   "cell_type": "markdown",
   "metadata": {},
   "source": [
    "### Balance Training Data"
   ]
  },
  {
   "cell_type": "code",
   "execution_count": 18,
   "metadata": {},
   "outputs": [
    {
     "name": "stdout",
     "output_type": "stream",
     "text": [
      "Readmission Rates by Set\n",
      "Test:  0.1140149139312844\n",
      "Validation:  0.11749947731549237\n",
      "Train:  0.11249663988530809\n",
      "Train Balanced:  0.5\n"
     ]
    }
   ],
   "source": [
    "# Split training data into positive and negative\n",
    "positive = train_data.Target_Label == 1\n",
    "train_data_pos = train_data.loc[positive]\n",
    "train_data_neg = train_data.loc[~positive]\n",
    "\n",
    "# Merge and Balance\n",
    "train_data_balanced = pd.concat([train_data_pos, train_data_neg.sample(n = len(train_data_pos), random_state=10)], axis = 0)\n",
    "\n",
    "# Shuffle\n",
    "train_data_balanced = train_data_balanced.sample(n = len(train_data_balanced), random_state = 10).reset_index(drop=True)\n",
    "\n",
    "print('Readmission Rates by Set')\n",
    "print('Test: ', test_data[test_data['Target_Label']==1].shape[0]/test_data.shape[0])\n",
    "print('Validation: ', vd_data[vd_data['Target_Label']==1].shape[0]/vd_data.shape[0])\n",
    "print('Train: ', train_data[train_data['Target_Label']==1].shape[0]/train_data.shape[0])\n",
    "print('Train Balanced: ', train_data_balanced[train_data_balanced['Target_Label']==1].shape[0]/train_data_balanced.shape[0])"
   ]
  },
  {
   "cell_type": "markdown",
   "metadata": {},
   "source": [
    "### Create Input Matrices and Output Vectors"
   ]
  },
  {
   "cell_type": "code",
   "execution_count": 19,
   "metadata": {},
   "outputs": [
    {
     "name": "stdout",
     "output_type": "stream",
     "text": [
      "Training Matrix: (66962, 142)\n",
      "Balanced Training Matrix, Label: (15066, 142) 15066\n",
      "Validation Matrix, Label: (14349, 142) 14349\n"
     ]
    }
   ],
   "source": [
    "train_matrix = train_data[num_col_names + data_cat_cols + features].values\n",
    "train_balanced_matrix = train_data_balanced[num_col_names + data_cat_cols + features].values\n",
    "vd_matrix = vd_data[num_col_names + data_cat_cols + features].values\n",
    "\n",
    "train_labels = train_data_balanced['Target_Label'].values\n",
    "vd_labels = vd_data['Target_Label'].values\n",
    "\n",
    "print('Training Matrix:',train_matrix.shape)\n",
    "print('Balanced Training Matrix, Label:',train_balanced_matrix.shape, train_labels.shape[0])\n",
    "print('Validation Matrix, Label:',vd_matrix.shape, vd_labels.shape[0])"
   ]
  },
  {
   "cell_type": "markdown",
   "metadata": {},
   "source": [
    "### Scaling"
   ]
  },
  {
   "cell_type": "code",
   "execution_count": 20,
   "metadata": {},
   "outputs": [],
   "source": [
    "scaler = StandardScaler()\n",
    "scaler.fit(train_matrix)\n",
    "\n",
    "scaled_train = scaler.transform(train_balanced_matrix)\n",
    "scaled_vd = scaler.transform(vd_matrix)"
   ]
  },
  {
   "cell_type": "markdown",
   "metadata": {},
   "source": [
    "### Dataframes for Heterogeneous Ensemble Model"
   ]
  },
  {
   "cell_type": "code",
   "execution_count": 21,
   "metadata": {},
   "outputs": [],
   "source": [
    "ensemble_train = pd.DataFrame({'Truth': train_labels})\n",
    "ensemble_validation = pd.DataFrame({'Truth': vd_labels})"
   ]
  },
  {
   "cell_type": "markdown",
   "metadata": {},
   "source": [
    "# Modeling"
   ]
  },
  {
   "cell_type": "code",
   "execution_count": 22,
   "metadata": {},
   "outputs": [],
   "source": [
    "def report(actual, predicted):\n",
    "    AUC = roc_auc_score(actual, predicted)\n",
    "    accuracy = accuracy_score(actual, predicted)\n",
    "    precision = precision_score(actual, predicted)\n",
    "    recall = recall_score(actual, predicted)\n",
    "    print('AUC: ', AUC)\n",
    "    print('Accuracy: ', accuracy)\n",
    "    print('Precision: ', precision)\n",
    "    print('Recall: ', recall)\n",
    "    print('Confusion Matrix:')\n",
    "    conf_matrix = confusion_matrix(actual, predicted)\n",
    "    group_names = ['True Neg','False Pos','False Neg','True Pos']\n",
    "    group_counts = ['{0:0.0f}'.format(value) for value in conf_matrix.flatten()]\n",
    "    group_percentages = ['{0:.2%}'.format(value) for value in conf_matrix.flatten()/np.sum(conf_matrix)]\n",
    "    labels = [f'{v1}\\n{v2}\\n{v3}' for v1, v2, v3 in zip(group_names,group_counts,group_percentages)]\n",
    "    labels = np.asarray(labels).reshape(2,2)\n",
    "    sns.heatmap(conf_matrix, annot=labels, fmt='', cmap='Blues')\n",
    "    return AUC, accuracy, precision, recall"
   ]
  },
  {
   "cell_type": "markdown",
   "metadata": {},
   "source": [
    "### K Nearest Neighbors"
   ]
  },
  {
   "cell_type": "code",
   "execution_count": 23,
   "metadata": {},
   "outputs": [
    {
     "data": {
      "text/plain": [
       "KNeighborsClassifier(algorithm='auto', leaf_size=30, metric='minkowski',\n",
       "                     metric_params=None, n_jobs=None, n_neighbors=100, p=2,\n",
       "                     weights='uniform')"
      ]
     },
     "execution_count": 23,
     "metadata": {},
     "output_type": "execute_result"
    }
   ],
   "source": [
    "from sklearn.neighbors import KNeighborsClassifier\n",
    "knn = KNeighborsClassifier(n_neighbors = 100)\n",
    "knn.fit(scaled_train, train_labels)"
   ]
  },
  {
   "cell_type": "code",
   "execution_count": 24,
   "metadata": {},
   "outputs": [
    {
     "name": "stdout",
     "output_type": "stream",
     "text": [
      "Train:\n",
      "AUC:  0.6003584229390682\n",
      "Accuracy:  0.600358422939068\n",
      "Precision:  0.6217783505154639\n",
      "Recall:  0.5124120536306916\n",
      "Confusion Matrix:\n"
     ]
    },
    {
     "data": {
      "image/png": "[encoded data removed]",
      "text/plain": [
       "<Figure size 432x288 with 2 Axes>"
      ]
     },
     "metadata": {
      "needs_background": "light"
     },
     "output_type": "display_data"
    }
   ],
   "source": [
    "train_predictions = knn.predict_proba(scaled_train)[:,1]\n",
    "train_predictions[train_predictions > 0.5] = 1\n",
    "train_predictions[train_predictions <= 0.5] = 0\n",
    "print('Train:')\n",
    "knn_train_AUC, knn_train_accuracy, knn_train_precision, knn_train_recall = report(train_labels, train_predictions)\n",
    "ensemble_train['KNN_train_predictions'] = train_predictions"
   ]
  },
  {
   "cell_type": "code",
   "execution_count": 25,
   "metadata": {},
   "outputs": [
    {
     "name": "stdout",
     "output_type": "stream",
     "text": [
      "Validation:\n",
      "AUC:  0.5835870357302343\n",
      "Accuracy:  0.6507073663669942\n",
      "Precision:  0.1672669067627051\n",
      "Recall:  0.4958481613285884\n",
      "Confusion Matrix:\n"
     ]
    },
    {
     "data": {
      "image/png": "[encoded data removed]",
      "text/plain": [
       "<Figure size 432x288 with 2 Axes>"
      ]
     },
     "metadata": {
      "needs_background": "light"
     },
     "output_type": "display_data"
    }
   ],
   "source": [
    "vd_predictions = knn.predict_proba(scaled_vd)[:,1]\n",
    "vd_predictions[vd_predictions > 0.5] = 1\n",
    "vd_predictions[vd_predictions <= 0.5] = 0\n",
    "print('Validation:')\n",
    "knn_vd_AUC, knn_vd_accuracy, knn_vd_precision, knn_vd_recall = report(vd_labels, vd_predictions)\n",
    "ensemble_validation['KNN_validation_predictions'] = vd_predictions"
   ]
  },
  {
   "cell_type": "markdown",
   "metadata": {},
   "source": [
    "### Logistic Regression"
   ]
  },
  {
   "cell_type": "code",
   "execution_count": 26,
   "metadata": {},
   "outputs": [
    {
     "name": "stderr",
     "output_type": "stream",
     "text": [
      "C:\\Users\\ssear\\anaconda3\\lib\\site-packages\\sklearn\\linear_model\\_logistic.py:940: ConvergenceWarning: lbfgs failed to converge (status=1):\n",
      "STOP: TOTAL NO. of ITERATIONS REACHED LIMIT.\n",
      "\n",
      "Increase the number of iterations (max_iter) or scale the data as shown in:\n",
      "    https://scikit-learn.org/stable/modules/preprocessing.html\n",
      "Please also refer to the documentation for alternative solver options:\n",
      "    https://scikit-learn.org/stable/modules/linear_model.html#logistic-regression\n",
      "  extra_warning_msg=_LOGISTIC_SOLVER_CONVERGENCE_MSG)\n"
     ]
    },
    {
     "data": {
      "text/plain": [
       "LogisticRegression(C=1.0, class_weight=None, dual=False, fit_intercept=True,\n",
       "                   intercept_scaling=1, l1_ratio=None, max_iter=100,\n",
       "                   multi_class='auto', n_jobs=None, penalty='l2',\n",
       "                   random_state=10, solver='lbfgs', tol=0.0001, verbose=0,\n",
       "                   warm_start=False)"
      ]
     },
     "execution_count": 26,
     "metadata": {},
     "output_type": "execute_result"
    }
   ],
   "source": [
    "from sklearn.linear_model import LogisticRegression\n",
    "logistic_regression = LogisticRegression(random_state=10)\n",
    "logistic_regression.fit(scaled_train, train_labels)"
   ]
  },
  {
   "cell_type": "code",
   "execution_count": 27,
   "metadata": {},
   "outputs": [
    {
     "name": "stdout",
     "output_type": "stream",
     "text": [
      "Train:\n",
      "AUC:  0.6209345546263109\n",
      "Accuracy:  0.6209345546263109\n",
      "Precision:  0.6392114914425427\n",
      "Recall:  0.5552900570821718\n",
      "Confusion Matrix:\n"
     ]
    },
    {
     "data": {
      "image/png": "[encoded data removed]",
      "text/plain": [
       "<Figure size 432x288 with 2 Axes>"
      ]
     },
     "metadata": {
      "needs_background": "light"
     },
     "output_type": "display_data"
    }
   ],
   "source": [
    "train_predictions = logistic_regression.predict_proba(scaled_train)[:,1]\n",
    "train_predictions[train_predictions > 0.5] = 1\n",
    "train_predictions[train_predictions <= 0.5] = 0\n",
    "print('Train:')\n",
    "lr_train_AUC, lr_train_accuracy, lr_train_precision, lr_train_recall = report(train_labels, train_predictions)\n",
    "ensemble_train['LG_train_predictions'] = train_predictions"
   ]
  },
  {
   "cell_type": "code",
   "execution_count": 28,
   "metadata": {},
   "outputs": [
    {
     "name": "stdout",
     "output_type": "stream",
     "text": [
      "Validation:\n",
      "AUC:  0.6184189485830746\n",
      "Accuracy:  0.6631821032824587\n",
      "Precision:  0.1874875868917577\n",
      "Recall:  0.5599051008303677\n",
      "Confusion Matrix:\n"
     ]
    },
    {
     "data": {
      "image/png": "[encoded data removed]",
      "text/plain": [
       "<Figure size 432x288 with 2 Axes>"
      ]
     },
     "metadata": {
      "needs_background": "light"
     },
     "output_type": "display_data"
    }
   ],
   "source": [
    "vd_predictions = logistic_regression.predict_proba(scaled_vd)[:,1]\n",
    "vd_predictions[vd_predictions > 0.5] = 1\n",
    "vd_predictions[vd_predictions <= 0.5] = 0\n",
    "print('Validation:')\n",
    "lr_vd_AUC, lr_vd_accuracy, lr_vd_precision, lr_vd_recall = report(vd_labels, vd_predictions)\n",
    "ensemble_validation['LG_validation_predictions'] = vd_predictions"
   ]
  },
  {
   "cell_type": "markdown",
   "metadata": {},
   "source": [
    "### Stochastic Gradient Descent"
   ]
  },
  {
   "cell_type": "code",
   "execution_count": 29,
   "metadata": {},
   "outputs": [
    {
     "data": {
      "text/plain": [
       "SGDClassifier(alpha=0.1, average=False, class_weight=None, early_stopping=False,\n",
       "              epsilon=0.1, eta0=0.0, fit_intercept=True, l1_ratio=0.15,\n",
       "              learning_rate='optimal', loss='log', max_iter=1000,\n",
       "              n_iter_no_change=5, n_jobs=None, penalty='l2', power_t=0.5,\n",
       "              random_state=10, shuffle=True, tol=0.001, validation_fraction=0.1,\n",
       "              verbose=0, warm_start=False)"
      ]
     },
     "execution_count": 29,
     "metadata": {},
     "output_type": "execute_result"
    }
   ],
   "source": [
    "from sklearn.linear_model import SGDClassifier\n",
    "sgd = SGDClassifier(loss = 'log', alpha = 0.1, random_state=10)\n",
    "sgd.fit(scaled_train, train_labels)"
   ]
  },
  {
   "cell_type": "code",
   "execution_count": 30,
   "metadata": {},
   "outputs": [
    {
     "name": "stdout",
     "output_type": "stream",
     "text": [
      "Train:\n",
      "AUC:  0.6154918359219436\n",
      "Accuracy:  0.6154918359219435\n",
      "Precision:  0.6329868541730358\n",
      "Recall:  0.5497145891411125\n",
      "Confusion Matrix:\n"
     ]
    },
    {
     "data": {
      "image/png": "[encoded data removed]",
      "text/plain": [
       "<Figure size 432x288 with 2 Axes>"
      ]
     },
     "metadata": {
      "needs_background": "light"
     },
     "output_type": "display_data"
    }
   ],
   "source": [
    "train_predictions = sgd.predict_proba(scaled_train)[:,1]\n",
    "train_predictions[train_predictions > 0.5] = 1\n",
    "train_predictions[train_predictions <= 0.5] = 0\n",
    "print('Train:')\n",
    "sgd_train_AUC, sgd_train_accuracy, sgd_train_precision, sgd_train_recall = report(train_labels, train_predictions)\n",
    "ensemble_train['SGD_train_predictions'] = train_predictions"
   ]
  },
  {
   "cell_type": "code",
   "execution_count": 31,
   "metadata": {},
   "outputs": [
    {
     "name": "stdout",
     "output_type": "stream",
     "text": [
      "Validation:\n",
      "AUC:  0.6189725832791642\n",
      "Accuracy:  0.6632517945501428\n",
      "Precision:  0.18777292576419213\n",
      "Recall:  0.561091340450771\n",
      "Confusion Matrix:\n"
     ]
    },
    {
     "data": {
      "image/png": "[encoded data removed]",
      "text/plain": [
       "<Figure size 432x288 with 2 Axes>"
      ]
     },
     "metadata": {
      "needs_background": "light"
     },
     "output_type": "display_data"
    }
   ],
   "source": [
    "vd_predictions = sgd.predict_proba(scaled_vd)[:,1]\n",
    "vd_predictions[vd_predictions > 0.5] = 1\n",
    "vd_predictions[vd_predictions <= 0.5] = 0\n",
    "print('Validation:')\n",
    "sgd_vd_AUC, sgd_vd_accuracy, sgd_vd_precision, sgd_vd_recall = report(vd_labels, vd_predictions)\n",
    "ensemble_validation['SGD_validation_predictions'] = vd_predictions"
   ]
  },
  {
   "cell_type": "markdown",
   "metadata": {},
   "source": [
    "### Naive Bayes"
   ]
  },
  {
   "cell_type": "code",
   "execution_count": 32,
   "metadata": {},
   "outputs": [
    {
     "data": {
      "text/plain": [
       "GaussianNB(priors=None, var_smoothing=1e-09)"
      ]
     },
     "execution_count": 32,
     "metadata": {},
     "output_type": "execute_result"
    }
   ],
   "source": [
    "from sklearn.naive_bayes import GaussianNB\n",
    "nb = GaussianNB()\n",
    "nb.fit(scaled_train, train_labels)"
   ]
  },
  {
   "cell_type": "code",
   "execution_count": 33,
   "metadata": {},
   "outputs": [
    {
     "name": "stdout",
     "output_type": "stream",
     "text": [
      "Train:\n",
      "AUC:  0.5031196070622594\n",
      "Accuracy:  0.5031196070622594\n",
      "Precision:  0.5015755950385518\n",
      "Recall:  0.9930970396920218\n",
      "Confusion Matrix:\n"
     ]
    },
    {
     "data": {
      "image/png": "[encoded data removed]",
      "text/plain": [
       "<Figure size 432x288 with 2 Axes>"
      ]
     },
     "metadata": {
      "needs_background": "light"
     },
     "output_type": "display_data"
    }
   ],
   "source": [
    "train_predictions = nb.predict_proba(scaled_train)[:,1]\n",
    "train_predictions[train_predictions > 0.5] = 1\n",
    "train_predictions[train_predictions <= 0.5] = 0\n",
    "print('Train:')\n",
    "nb_train_AUC, nb_train_accuracy, nb_train_precision, nb_train_recall = report(train_labels, train_predictions)\n",
    "ensemble_train['NB_train_predictions'] = train_predictions"
   ]
  },
  {
   "cell_type": "code",
   "execution_count": 34,
   "metadata": {},
   "outputs": [
    {
     "name": "stdout",
     "output_type": "stream",
     "text": [
      "Validation:\n",
      "AUC:  0.5019305550988772\n",
      "Accuracy:  0.1254442818314865\n",
      "Precision:  0.11790362293352093\n",
      "Recall:  0.9940688018979834\n",
      "Confusion Matrix:\n"
     ]
    },
    {
     "data": {
      "image/png": "[encoded data removed]",
      "text/plain": [
       "<Figure size 432x288 with 2 Axes>"
      ]
     },
     "metadata": {
      "needs_background": "light"
     },
     "output_type": "display_data"
    }
   ],
   "source": [
    "vd_predictions = nb.predict_proba(scaled_vd)[:,1]\n",
    "vd_predictions[vd_predictions > 0.5] = 1\n",
    "vd_predictions[vd_predictions <= 0.5] = 0\n",
    "print('Validation:')\n",
    "nb_vd_AUC, nb_vd_accuracy, nb_vd_precision, nb_vd_recall = report(vd_labels, vd_predictions)\n",
    "ensemble_validation['NB_validation_predictions'] = vd_predictions"
   ]
  },
  {
   "cell_type": "markdown",
   "metadata": {},
   "source": [
    "### Decision Tree Classifier"
   ]
  },
  {
   "cell_type": "code",
   "execution_count": 35,
   "metadata": {},
   "outputs": [
    {
     "data": {
      "text/plain": [
       "DecisionTreeClassifier(ccp_alpha=0.0, class_weight=None, criterion='gini',\n",
       "                       max_depth=10, max_features=None, max_leaf_nodes=None,\n",
       "                       min_impurity_decrease=0.0, min_impurity_split=None,\n",
       "                       min_samples_leaf=1, min_samples_split=2,\n",
       "                       min_weight_fraction_leaf=0.0, presort='deprecated',\n",
       "                       random_state=10, splitter='best')"
      ]
     },
     "execution_count": 35,
     "metadata": {},
     "output_type": "execute_result"
    }
   ],
   "source": [
    "from sklearn.tree import DecisionTreeClassifier\n",
    "\n",
    "dt = DecisionTreeClassifier(max_depth = 10, random_state = 10)\n",
    "dt.fit(scaled_train, train_labels)"
   ]
  },
  {
   "cell_type": "code",
   "execution_count": 36,
   "metadata": {},
   "outputs": [
    {
     "name": "stdout",
     "output_type": "stream",
     "text": [
      "Train:\n",
      "AUC:  0.6669985397583964\n",
      "Accuracy:  0.6669985397583964\n",
      "Precision:  0.693717277486911\n",
      "Recall:  0.5980353112969601\n",
      "Confusion Matrix:\n"
     ]
    },
    {
     "data": {
      "image/png": "[encoded data removed]",
      "text/plain": [
       "<Figure size 432x288 with 2 Axes>"
      ]
     },
     "metadata": {
      "needs_background": "light"
     },
     "output_type": "display_data"
    }
   ],
   "source": [
    "train_predictions = dt.predict_proba(scaled_train)[:,1]\n",
    "train_predictions[train_predictions > 0.5] = 1\n",
    "train_predictions[train_predictions <= 0.5] = 0\n",
    "print('Train:')\n",
    "dt_train_AUC, dt_train_accuracy, dt_train_precision, dt_train_recall = report(train_labels, train_predictions)\n",
    "ensemble_train['DTC_train_predictions'] = train_predictions"
   ]
  },
  {
   "cell_type": "code",
   "execution_count": 37,
   "metadata": {},
   "outputs": [
    {
     "name": "stdout",
     "output_type": "stream",
     "text": [
      "Validation:\n",
      "AUC:  0.6003523308723286\n",
      "Accuracy:  0.6548888424280438\n",
      "Precision:  0.17663366336633662\n",
      "Recall:  0.5290628706998813\n",
      "Confusion Matrix:\n"
     ]
    },
    {
     "data": {
      "image/png": "[encoded data removed]",
      "text/plain": [
       "<Figure size 432x288 with 2 Axes>"
      ]
     },
     "metadata": {
      "needs_background": "light"
     },
     "output_type": "display_data"
    }
   ],
   "source": [
    "vd_predictions = dt.predict_proba(scaled_vd)[:,1]\n",
    "vd_predictions[vd_predictions > 0.5] = 1\n",
    "vd_predictions[vd_predictions <= 0.5] = 0\n",
    "print('Validation:')\n",
    "dt_vd_AUC, dt_vd_accuracy, dt_vd_precision, dt_vd_recall = report(vd_labels, vd_predictions)\n",
    "ensemble_validation['DTC_validation_predictions'] = vd_predictions"
   ]
  },
  {
   "cell_type": "markdown",
   "metadata": {},
   "source": [
    "### Random Forest"
   ]
  },
  {
   "cell_type": "code",
   "execution_count": 38,
   "metadata": {},
   "outputs": [
    {
     "data": {
      "text/plain": [
       "RandomForestClassifier(bootstrap=True, ccp_alpha=0.0, class_weight=None,\n",
       "                       criterion='gini', max_depth=6, max_features='auto',\n",
       "                       max_leaf_nodes=None, max_samples=None,\n",
       "                       min_impurity_decrease=0.0, min_impurity_split=None,\n",
       "                       min_samples_leaf=1, min_samples_split=2,\n",
       "                       min_weight_fraction_leaf=0.0, n_estimators=100,\n",
       "                       n_jobs=None, oob_score=False, random_state=10, verbose=0,\n",
       "                       warm_start=False)"
      ]
     },
     "execution_count": 38,
     "metadata": {},
     "output_type": "execute_result"
    }
   ],
   "source": [
    "from sklearn.ensemble import RandomForestClassifier\n",
    "rf=RandomForestClassifier(max_depth = 6, random_state = 10)\n",
    "rf.fit(scaled_train, train_labels)"
   ]
  },
  {
   "cell_type": "code",
   "execution_count": 39,
   "metadata": {},
   "outputs": [
    {
     "name": "stdout",
     "output_type": "stream",
     "text": [
      "Train:\n",
      "AUC:  0.6388557015797158\n",
      "Accuracy:  0.6388557015797159\n",
      "Precision:  0.6471167369901547\n",
      "Recall:  0.6107792380193814\n",
      "Confusion Matrix:\n"
     ]
    },
    {
     "data": {
      "image/png": "[encoded data removed]",
      "text/plain": [
       "<Figure size 432x288 with 2 Axes>"
      ]
     },
     "metadata": {
      "needs_background": "light"
     },
     "output_type": "display_data"
    }
   ],
   "source": [
    "train_predictions = rf.predict_proba(scaled_train)[:,1]\n",
    "train_predictions[train_predictions > 0.5] = 1\n",
    "train_predictions[train_predictions <= 0.5] = 0\n",
    "print('Train:')\n",
    "rf_train_AUC, rf_train_accuracy, rf_train_precision, rf_train_recall = report(train_labels, train_predictions)\n",
    "ensemble_train['RF_train_predictions'] = train_predictions"
   ]
  },
  {
   "cell_type": "code",
   "execution_count": 40,
   "metadata": {},
   "outputs": [
    {
     "name": "stdout",
     "output_type": "stream",
     "text": [
      "Validation:\n",
      "AUC:  0.6181459954365887\n",
      "Accuracy:  0.6377447905777406\n",
      "Precision:  0.18130671506352086\n",
      "Recall:  0.5925266903914591\n",
      "Confusion Matrix:\n"
     ]
    },
    {
     "data": {
      "image/png": "[encoded data removed]",
      "text/plain": [
       "<Figure size 432x288 with 2 Axes>"
      ]
     },
     "metadata": {
      "needs_background": "light"
     },
     "output_type": "display_data"
    }
   ],
   "source": [
    "vd_predictions = rf.predict_proba(scaled_vd)[:,1]\n",
    "vd_predictions[vd_predictions > 0.5] = 1\n",
    "vd_predictions[vd_predictions <= 0.5] = 0\n",
    "print('Validation:')\n",
    "rf_vd_AUC, rf_vd_accuracy, rf_vd_precision, rf_vd_recall = report(vd_labels, vd_predictions)\n",
    "ensemble_validation['RF_validation_predictions'] = vd_predictions"
   ]
  },
  {
   "cell_type": "markdown",
   "metadata": {},
   "source": [
    "### Gradient Boosting Classifier"
   ]
  },
  {
   "cell_type": "code",
   "execution_count": 41,
   "metadata": {},
   "outputs": [
    {
     "data": {
      "text/plain": [
       "GradientBoostingClassifier(ccp_alpha=0.0, criterion='friedman_mse', init=None,\n",
       "                           learning_rate=1.0, loss='deviance', max_depth=3,\n",
       "                           max_features=None, max_leaf_nodes=None,\n",
       "                           min_impurity_decrease=0.0, min_impurity_split=None,\n",
       "                           min_samples_leaf=1, min_samples_split=2,\n",
       "                           min_weight_fraction_leaf=0.0, n_estimators=100,\n",
       "                           n_iter_no_change=None, presort='deprecated',\n",
       "                           random_state=42, subsample=1.0, tol=0.0001,\n",
       "                           validation_fraction=0.1, verbose=0,\n",
       "                           warm_start=False)"
      ]
     },
     "execution_count": 41,
     "metadata": {},
     "output_type": "execute_result"
    }
   ],
   "source": [
    "from sklearn.ensemble import GradientBoostingClassifier\n",
    "gbc = GradientBoostingClassifier(n_estimators=100, learning_rate=1.0, max_depth=3, random_state=42)\n",
    "gbc.fit(scaled_train, train_labels)"
   ]
  },
  {
   "cell_type": "code",
   "execution_count": 42,
   "metadata": {},
   "outputs": [
    {
     "name": "stdout",
     "output_type": "stream",
     "text": [
      "Train:\n",
      "AUC:  0.69607062259392\n",
      "Accuracy:  0.69607062259392\n",
      "Precision:  0.7047407818131411\n",
      "Recall:  0.6748971193415638\n",
      "Confusion Matrix:\n"
     ]
    },
    {
     "data": {
      "image/png": "[encoded data removed]",
      "text/plain": [
       "<Figure size 432x288 with 2 Axes>"
      ]
     },
     "metadata": {
      "needs_background": "light"
     },
     "output_type": "display_data"
    }
   ],
   "source": [
    "train_predictions = gbc.predict_proba(scaled_train)[:,1]\n",
    "train_predictions[train_predictions > 0.5] = 1\n",
    "train_predictions[train_predictions <= 0.5] = 0\n",
    "print('Train:')\n",
    "gbc_train_AUC, gbc_train_accuracy, gbc_train_precision, gbc_train_recall = report(train_labels, train_predictions)\n",
    "ensemble_train['GBC_train_predictions'] = train_predictions"
   ]
  },
  {
   "cell_type": "code",
   "execution_count": 43,
   "metadata": {},
   "outputs": [
    {
     "name": "stdout",
     "output_type": "stream",
     "text": [
      "Validation:\n",
      "AUC:  0.602599750499044\n",
      "Accuracy:  0.6198341347829117\n",
      "Precision:  0.1708296943231441\n",
      "Recall:  0.5800711743772242\n",
      "Confusion Matrix:\n"
     ]
    },
    {
     "data": {
      "image/png": "[encoded data removed]",
      "text/plain": [
       "<Figure size 432x288 with 2 Axes>"
      ]
     },
     "metadata": {
      "needs_background": "light"
     },
     "output_type": "display_data"
    }
   ],
   "source": [
    "vd_predictions = gbc.predict_proba(scaled_vd)[:,1]\n",
    "vd_predictions[vd_predictions > 0.5] = 1\n",
    "vd_predictions[vd_predictions <= 0.5] = 0\n",
    "print('Validation:')\n",
    "gbc_vd_AUC, gbc_vd_accuracy, gbc_vd_precision, gbc_vd_recall = report(vd_labels, vd_predictions)\n",
    "ensemble_validation['GBC_validation_predictions'] = vd_predictions"
   ]
  },
  {
   "cell_type": "markdown",
   "metadata": {},
   "source": [
    "### Ensemble"
   ]
  },
  {
   "cell_type": "code",
   "execution_count": 44,
   "metadata": {},
   "outputs": [],
   "source": [
    "ensemble_train['Avg_All'] = ensemble_train[['KNN_train_predictions', 'LG_train_predictions',\\\n",
    "                                           'SGD_train_predictions', 'NB_train_predictions',\\\n",
    "                                           'DTC_train_predictions', 'GBC_train_predictions']].mean(axis=1)\n",
    "ensemble_train['Avg_All'] = ensemble_train['Avg_All'].round(0)"
   ]
  },
  {
   "cell_type": "code",
   "execution_count": 45,
   "metadata": {},
   "outputs": [
    {
     "name": "stdout",
     "output_type": "stream",
     "text": [
      "Training Data\n",
      "AUC:  0.6415770609318996\n",
      "Accuracy:  0.6415770609318996\n",
      "Precision:  0.6647613162366754\n",
      "Recall:  0.5712199654851985\n",
      "Confusion Matrix:\n"
     ]
    },
    {
     "data": {
      "image/png": "[encoded data removed]",
      "text/plain": [
       "<Figure size 432x288 with 2 Axes>"
      ]
     },
     "metadata": {
      "needs_background": "light"
     },
     "output_type": "display_data"
    }
   ],
   "source": [
    "print('Training Data')\n",
    "ensemble_train_AUC, ensemble_train_accuracy, ensemble_train_precision, ensemble_train_recall\\\n",
    "= report(ensemble_train.Truth, ensemble_train.Avg_All)"
   ]
  },
  {
   "cell_type": "code",
   "execution_count": 46,
   "metadata": {},
   "outputs": [],
   "source": [
    "ensemble_train.to_excel('train__ensemble_labels.xlsx')"
   ]
  },
  {
   "cell_type": "code",
   "execution_count": 47,
   "metadata": {},
   "outputs": [],
   "source": [
    "ensemble_validation['Avg_All'] = ensemble_validation[['KNN_validation_predictions', 'LG_validation_predictions',\\\n",
    "                                           'SGD_validation_predictions', 'NB_validation_predictions',\\\n",
    "                                           'DTC_validation_predictions', 'GBC_validation_predictions']].mean(axis=1)\n",
    "ensemble_validation['Avg_All'] = ensemble_validation['Avg_All'].round(0)"
   ]
  },
  {
   "cell_type": "code",
   "execution_count": 50,
   "metadata": {},
   "outputs": [
    {
     "name": "stdout",
     "output_type": "stream",
     "text": [
      "Validation Data\n",
      "AUC:  0.621362697330722\n",
      "Accuracy:  0.6661091365251934\n",
      "Precision:  0.1896861882870278\n",
      "Recall:  0.5628706998813761\n",
      "Confusion Matrix:\n"
     ]
    },
    {
     "data": {
      "image/png": "[encoded data removed]",
      "text/plain": [
       "<Figure size 432x288 with 2 Axes>"
      ]
     },
     "metadata": {
      "needs_background": "light"
     },
     "output_type": "display_data"
    }
   ],
   "source": [
    "print('Validation Data')\n",
    "ensemble_vd_AUC, ensemble_vd_accuracy, ensemble_vd_precision, ensemble_vd_recall\\\n",
    "= report(ensemble_validation.Truth, ensemble_validation.Avg_All)"
   ]
  },
  {
   "cell_type": "markdown",
   "metadata": {},
   "source": [
    "# Compare Results"
   ]
  },
  {
   "cell_type": "code",
   "execution_count": 51,
   "metadata": {},
   "outputs": [],
   "source": [
    "models = ['KNN', 'LogReg', 'SGD', 'NB', 'DTC', 'RF', 'GBC', 'Ensemble']\n",
    "train_auc = [knn_train_AUC, lr_train_AUC, sgd_train_AUC, nb_train_AUC, dt_train_AUC, rf_train_AUC, gbc_train_AUC, ensemble_train_AUC]\n",
    "train_accuracy = [knn_train_accuracy, lr_train_accuracy, sgd_train_accuracy, nb_train_accuracy, dt_train_accuracy, rf_train_accuracy, gbc_train_accuracy, ensemble_train_accuracy]\n",
    "train_precision = [knn_train_precision, lr_train_precision, sgd_train_precision, nb_train_precision, dt_train_precision, rf_train_precision, gbc_train_precision, ensemble_train_precision]\n",
    "train_recall = [knn_train_recall, lr_train_recall, sgd_train_recall, nb_train_recall, dt_train_recall, rf_train_recall, gbc_train_recall, ensemble_train_recall]\n",
    "vd_auc = [knn_vd_AUC, lr_vd_AUC, sgd_vd_AUC, nb_vd_AUC, dt_vd_AUC, rf_vd_AUC, gbc_vd_AUC, ensemble_vd_AUC]\n",
    "vd_accuracy = [knn_vd_accuracy, lr_vd_accuracy, sgd_vd_accuracy, nb_vd_accuracy, dt_vd_accuracy, rf_vd_accuracy, gbc_vd_accuracy, ensemble_vd_accuracy]\n",
    "vd_precision = [knn_vd_precision, lr_vd_precision, sgd_vd_precision, nb_vd_precision, dt_vd_precision, rf_vd_precision, gbc_vd_precision, ensemble_vd_precision]\n",
    "vd_recall = [knn_vd_recall, lr_vd_recall, sgd_vd_recall, nb_vd_recall, dt_vd_recall, rf_vd_recall, gbc_vd_recall, ensemble_vd_recall]"
   ]
  },
  {
   "cell_type": "code",
   "execution_count": 52,
   "metadata": {},
   "outputs": [],
   "source": [
    "results_df = pd.DataFrame({'Model':models, 'Train AUC': train_auc, 'Train Accuracy': train_accuracy,\\\n",
    "                           'Train Precision': train_precision, 'Train Recall': train_recall,\\\n",
    "                           'Validation AUC': vd_auc, 'Validation Accuracy': vd_accuracy,\\\n",
    "                           'Validation Precision': vd_precision, 'Validation Recall': vd_recall})"
   ]
  },
  {
   "cell_type": "code",
   "execution_count": 53,
   "metadata": {},
   "outputs": [
    {
     "data": {
      "text/html": [
       "<div>\n",
       "<style scoped>\n",
       "    .dataframe tbody tr th:only-of-type {\n",
       "        vertical-align: middle;\n",
       "    }\n",
       "\n",
       "    .dataframe tbody tr th {\n",
       "        vertical-align: top;\n",
       "    }\n",
       "\n",
       "    .dataframe thead th {\n",
       "        text-align: right;\n",
       "    }\n",
       "</style>\n",
       "<table border=\"1\" class=\"dataframe\">\n",
       "  <thead>\n",
       "    <tr style=\"text-align: right;\">\n",
       "      <th></th>\n",
       "      <th>Model</th>\n",
       "      <th>Train AUC</th>\n",
       "      <th>Train Accuracy</th>\n",
       "      <th>Train Precision</th>\n",
       "      <th>Train Recall</th>\n",
       "      <th>Validation AUC</th>\n",
       "      <th>Validation Accuracy</th>\n",
       "      <th>Validation Precision</th>\n",
       "      <th>Validation Recall</th>\n",
       "    </tr>\n",
       "  </thead>\n",
       "  <tbody>\n",
       "    <tr>\n",
       "      <th>7</th>\n",
       "      <td>Ensemble</td>\n",
       "      <td>0.641577</td>\n",
       "      <td>0.641577</td>\n",
       "      <td>0.664761</td>\n",
       "      <td>0.571220</td>\n",
       "      <td>0.621363</td>\n",
       "      <td>0.666109</td>\n",
       "      <td>0.189686</td>\n",
       "      <td>0.562871</td>\n",
       "    </tr>\n",
       "    <tr>\n",
       "      <th>2</th>\n",
       "      <td>SGD</td>\n",
       "      <td>0.615492</td>\n",
       "      <td>0.615492</td>\n",
       "      <td>0.632987</td>\n",
       "      <td>0.549715</td>\n",
       "      <td>0.618973</td>\n",
       "      <td>0.663252</td>\n",
       "      <td>0.187773</td>\n",
       "      <td>0.561091</td>\n",
       "    </tr>\n",
       "    <tr>\n",
       "      <th>1</th>\n",
       "      <td>LogReg</td>\n",
       "      <td>0.620935</td>\n",
       "      <td>0.620935</td>\n",
       "      <td>0.639211</td>\n",
       "      <td>0.555290</td>\n",
       "      <td>0.618419</td>\n",
       "      <td>0.663182</td>\n",
       "      <td>0.187488</td>\n",
       "      <td>0.559905</td>\n",
       "    </tr>\n",
       "    <tr>\n",
       "      <th>5</th>\n",
       "      <td>RF</td>\n",
       "      <td>0.638856</td>\n",
       "      <td>0.638856</td>\n",
       "      <td>0.647117</td>\n",
       "      <td>0.610779</td>\n",
       "      <td>0.618146</td>\n",
       "      <td>0.637745</td>\n",
       "      <td>0.181307</td>\n",
       "      <td>0.592527</td>\n",
       "    </tr>\n",
       "    <tr>\n",
       "      <th>6</th>\n",
       "      <td>GBC</td>\n",
       "      <td>0.696071</td>\n",
       "      <td>0.696071</td>\n",
       "      <td>0.704741</td>\n",
       "      <td>0.674897</td>\n",
       "      <td>0.602600</td>\n",
       "      <td>0.619834</td>\n",
       "      <td>0.170830</td>\n",
       "      <td>0.580071</td>\n",
       "    </tr>\n",
       "    <tr>\n",
       "      <th>4</th>\n",
       "      <td>DTC</td>\n",
       "      <td>0.666999</td>\n",
       "      <td>0.666999</td>\n",
       "      <td>0.693717</td>\n",
       "      <td>0.598035</td>\n",
       "      <td>0.600352</td>\n",
       "      <td>0.654889</td>\n",
       "      <td>0.176634</td>\n",
       "      <td>0.529063</td>\n",
       "    </tr>\n",
       "    <tr>\n",
       "      <th>0</th>\n",
       "      <td>KNN</td>\n",
       "      <td>0.600358</td>\n",
       "      <td>0.600358</td>\n",
       "      <td>0.621778</td>\n",
       "      <td>0.512412</td>\n",
       "      <td>0.583587</td>\n",
       "      <td>0.650707</td>\n",
       "      <td>0.167267</td>\n",
       "      <td>0.495848</td>\n",
       "    </tr>\n",
       "    <tr>\n",
       "      <th>3</th>\n",
       "      <td>NB</td>\n",
       "      <td>0.503120</td>\n",
       "      <td>0.503120</td>\n",
       "      <td>0.501576</td>\n",
       "      <td>0.993097</td>\n",
       "      <td>0.501931</td>\n",
       "      <td>0.125444</td>\n",
       "      <td>0.117904</td>\n",
       "      <td>0.994069</td>\n",
       "    </tr>\n",
       "  </tbody>\n",
       "</table>\n",
       "</div>"
      ],
      "text/plain": [
       "      Model  Train AUC  Train Accuracy  Train Precision  Train Recall  \\\n",
       "7  Ensemble   0.641577        0.641577         0.664761      0.571220   \n",
       "2       SGD   0.615492        0.615492         0.632987      0.549715   \n",
       "1    LogReg   0.620935        0.620935         0.639211      0.555290   \n",
       "5        RF   0.638856        0.638856         0.647117      0.610779   \n",
       "6       GBC   0.696071        0.696071         0.704741      0.674897   \n",
       "4       DTC   0.666999        0.666999         0.693717      0.598035   \n",
       "0       KNN   0.600358        0.600358         0.621778      0.512412   \n",
       "3        NB   0.503120        0.503120         0.501576      0.993097   \n",
       "\n",
       "   Validation AUC  Validation Accuracy  Validation Precision  \\\n",
       "7        0.621363             0.666109              0.189686   \n",
       "2        0.618973             0.663252              0.187773   \n",
       "1        0.618419             0.663182              0.187488   \n",
       "5        0.618146             0.637745              0.181307   \n",
       "6        0.602600             0.619834              0.170830   \n",
       "4        0.600352             0.654889              0.176634   \n",
       "0        0.583587             0.650707              0.167267   \n",
       "3        0.501931             0.125444              0.117904   \n",
       "\n",
       "   Validation Recall  \n",
       "7           0.562871  \n",
       "2           0.561091  \n",
       "1           0.559905  \n",
       "5           0.592527  \n",
       "6           0.580071  \n",
       "4           0.529063  \n",
       "0           0.495848  \n",
       "3           0.994069  "
      ]
     },
     "execution_count": 53,
     "metadata": {},
     "output_type": "execute_result"
    }
   ],
   "source": [
    "results_df.sort_values(by = 'Validation AUC', ascending=False)"
   ]
  },
  {
   "cell_type": "code",
   "execution_count": 54,
   "metadata": {},
   "outputs": [
    {
     "data": {
      "text/html": [
       "<div>\n",
       "<style scoped>\n",
       "    .dataframe tbody tr th:only-of-type {\n",
       "        vertical-align: middle;\n",
       "    }\n",
       "\n",
       "    .dataframe tbody tr th {\n",
       "        vertical-align: top;\n",
       "    }\n",
       "\n",
       "    .dataframe thead th {\n",
       "        text-align: right;\n",
       "    }\n",
       "</style>\n",
       "<table border=\"1\" class=\"dataframe\">\n",
       "  <thead>\n",
       "    <tr style=\"text-align: right;\">\n",
       "      <th></th>\n",
       "      <th>Model</th>\n",
       "      <th>Train AUC</th>\n",
       "      <th>Train Accuracy</th>\n",
       "      <th>Train Precision</th>\n",
       "      <th>Train Recall</th>\n",
       "      <th>Validation AUC</th>\n",
       "      <th>Validation Accuracy</th>\n",
       "      <th>Validation Precision</th>\n",
       "      <th>Validation Recall</th>\n",
       "    </tr>\n",
       "  </thead>\n",
       "  <tbody>\n",
       "    <tr>\n",
       "      <th>7</th>\n",
       "      <td>Ensemble</td>\n",
       "      <td>0.641577</td>\n",
       "      <td>0.641577</td>\n",
       "      <td>0.664761</td>\n",
       "      <td>0.571220</td>\n",
       "      <td>0.621363</td>\n",
       "      <td>0.666109</td>\n",
       "      <td>0.189686</td>\n",
       "      <td>0.562871</td>\n",
       "    </tr>\n",
       "    <tr>\n",
       "      <th>2</th>\n",
       "      <td>SGD</td>\n",
       "      <td>0.615492</td>\n",
       "      <td>0.615492</td>\n",
       "      <td>0.632987</td>\n",
       "      <td>0.549715</td>\n",
       "      <td>0.618973</td>\n",
       "      <td>0.663252</td>\n",
       "      <td>0.187773</td>\n",
       "      <td>0.561091</td>\n",
       "    </tr>\n",
       "    <tr>\n",
       "      <th>1</th>\n",
       "      <td>LogReg</td>\n",
       "      <td>0.620935</td>\n",
       "      <td>0.620935</td>\n",
       "      <td>0.639211</td>\n",
       "      <td>0.555290</td>\n",
       "      <td>0.618419</td>\n",
       "      <td>0.663182</td>\n",
       "      <td>0.187488</td>\n",
       "      <td>0.559905</td>\n",
       "    </tr>\n",
       "    <tr>\n",
       "      <th>4</th>\n",
       "      <td>DTC</td>\n",
       "      <td>0.666999</td>\n",
       "      <td>0.666999</td>\n",
       "      <td>0.693717</td>\n",
       "      <td>0.598035</td>\n",
       "      <td>0.600352</td>\n",
       "      <td>0.654889</td>\n",
       "      <td>0.176634</td>\n",
       "      <td>0.529063</td>\n",
       "    </tr>\n",
       "    <tr>\n",
       "      <th>0</th>\n",
       "      <td>KNN</td>\n",
       "      <td>0.600358</td>\n",
       "      <td>0.600358</td>\n",
       "      <td>0.621778</td>\n",
       "      <td>0.512412</td>\n",
       "      <td>0.583587</td>\n",
       "      <td>0.650707</td>\n",
       "      <td>0.167267</td>\n",
       "      <td>0.495848</td>\n",
       "    </tr>\n",
       "    <tr>\n",
       "      <th>5</th>\n",
       "      <td>RF</td>\n",
       "      <td>0.638856</td>\n",
       "      <td>0.638856</td>\n",
       "      <td>0.647117</td>\n",
       "      <td>0.610779</td>\n",
       "      <td>0.618146</td>\n",
       "      <td>0.637745</td>\n",
       "      <td>0.181307</td>\n",
       "      <td>0.592527</td>\n",
       "    </tr>\n",
       "    <tr>\n",
       "      <th>6</th>\n",
       "      <td>GBC</td>\n",
       "      <td>0.696071</td>\n",
       "      <td>0.696071</td>\n",
       "      <td>0.704741</td>\n",
       "      <td>0.674897</td>\n",
       "      <td>0.602600</td>\n",
       "      <td>0.619834</td>\n",
       "      <td>0.170830</td>\n",
       "      <td>0.580071</td>\n",
       "    </tr>\n",
       "    <tr>\n",
       "      <th>3</th>\n",
       "      <td>NB</td>\n",
       "      <td>0.503120</td>\n",
       "      <td>0.503120</td>\n",
       "      <td>0.501576</td>\n",
       "      <td>0.993097</td>\n",
       "      <td>0.501931</td>\n",
       "      <td>0.125444</td>\n",
       "      <td>0.117904</td>\n",
       "      <td>0.994069</td>\n",
       "    </tr>\n",
       "  </tbody>\n",
       "</table>\n",
       "</div>"
      ],
      "text/plain": [
       "      Model  Train AUC  Train Accuracy  Train Precision  Train Recall  \\\n",
       "7  Ensemble   0.641577        0.641577         0.664761      0.571220   \n",
       "2       SGD   0.615492        0.615492         0.632987      0.549715   \n",
       "1    LogReg   0.620935        0.620935         0.639211      0.555290   \n",
       "4       DTC   0.666999        0.666999         0.693717      0.598035   \n",
       "0       KNN   0.600358        0.600358         0.621778      0.512412   \n",
       "5        RF   0.638856        0.638856         0.647117      0.610779   \n",
       "6       GBC   0.696071        0.696071         0.704741      0.674897   \n",
       "3        NB   0.503120        0.503120         0.501576      0.993097   \n",
       "\n",
       "   Validation AUC  Validation Accuracy  Validation Precision  \\\n",
       "7        0.621363             0.666109              0.189686   \n",
       "2        0.618973             0.663252              0.187773   \n",
       "1        0.618419             0.663182              0.187488   \n",
       "4        0.600352             0.654889              0.176634   \n",
       "0        0.583587             0.650707              0.167267   \n",
       "5        0.618146             0.637745              0.181307   \n",
       "6        0.602600             0.619834              0.170830   \n",
       "3        0.501931             0.125444              0.117904   \n",
       "\n",
       "   Validation Recall  \n",
       "7           0.562871  \n",
       "2           0.561091  \n",
       "1           0.559905  \n",
       "4           0.529063  \n",
       "0           0.495848  \n",
       "5           0.592527  \n",
       "6           0.580071  \n",
       "3           0.994069  "
      ]
     },
     "execution_count": 54,
     "metadata": {},
     "output_type": "execute_result"
    }
   ],
   "source": [
    "results_df.sort_values(by = 'Validation Accuracy', ascending=False)"
   ]
  },
  {
   "cell_type": "code",
   "execution_count": 55,
   "metadata": {},
   "outputs": [
    {
     "data": {
      "text/html": [
       "<div>\n",
       "<style scoped>\n",
       "    .dataframe tbody tr th:only-of-type {\n",
       "        vertical-align: middle;\n",
       "    }\n",
       "\n",
       "    .dataframe tbody tr th {\n",
       "        vertical-align: top;\n",
       "    }\n",
       "\n",
       "    .dataframe thead th {\n",
       "        text-align: right;\n",
       "    }\n",
       "</style>\n",
       "<table border=\"1\" class=\"dataframe\">\n",
       "  <thead>\n",
       "    <tr style=\"text-align: right;\">\n",
       "      <th></th>\n",
       "      <th>Model</th>\n",
       "      <th>Train AUC</th>\n",
       "      <th>Train Accuracy</th>\n",
       "      <th>Train Precision</th>\n",
       "      <th>Train Recall</th>\n",
       "      <th>Validation AUC</th>\n",
       "      <th>Validation Accuracy</th>\n",
       "      <th>Validation Precision</th>\n",
       "      <th>Validation Recall</th>\n",
       "    </tr>\n",
       "  </thead>\n",
       "  <tbody>\n",
       "    <tr>\n",
       "      <th>7</th>\n",
       "      <td>Ensemble</td>\n",
       "      <td>0.641577</td>\n",
       "      <td>0.641577</td>\n",
       "      <td>0.664761</td>\n",
       "      <td>0.571220</td>\n",
       "      <td>0.621363</td>\n",
       "      <td>0.666109</td>\n",
       "      <td>0.189686</td>\n",
       "      <td>0.562871</td>\n",
       "    </tr>\n",
       "    <tr>\n",
       "      <th>2</th>\n",
       "      <td>SGD</td>\n",
       "      <td>0.615492</td>\n",
       "      <td>0.615492</td>\n",
       "      <td>0.632987</td>\n",
       "      <td>0.549715</td>\n",
       "      <td>0.618973</td>\n",
       "      <td>0.663252</td>\n",
       "      <td>0.187773</td>\n",
       "      <td>0.561091</td>\n",
       "    </tr>\n",
       "    <tr>\n",
       "      <th>1</th>\n",
       "      <td>LogReg</td>\n",
       "      <td>0.620935</td>\n",
       "      <td>0.620935</td>\n",
       "      <td>0.639211</td>\n",
       "      <td>0.555290</td>\n",
       "      <td>0.618419</td>\n",
       "      <td>0.663182</td>\n",
       "      <td>0.187488</td>\n",
       "      <td>0.559905</td>\n",
       "    </tr>\n",
       "    <tr>\n",
       "      <th>5</th>\n",
       "      <td>RF</td>\n",
       "      <td>0.638856</td>\n",
       "      <td>0.638856</td>\n",
       "      <td>0.647117</td>\n",
       "      <td>0.610779</td>\n",
       "      <td>0.618146</td>\n",
       "      <td>0.637745</td>\n",
       "      <td>0.181307</td>\n",
       "      <td>0.592527</td>\n",
       "    </tr>\n",
       "    <tr>\n",
       "      <th>4</th>\n",
       "      <td>DTC</td>\n",
       "      <td>0.666999</td>\n",
       "      <td>0.666999</td>\n",
       "      <td>0.693717</td>\n",
       "      <td>0.598035</td>\n",
       "      <td>0.600352</td>\n",
       "      <td>0.654889</td>\n",
       "      <td>0.176634</td>\n",
       "      <td>0.529063</td>\n",
       "    </tr>\n",
       "    <tr>\n",
       "      <th>6</th>\n",
       "      <td>GBC</td>\n",
       "      <td>0.696071</td>\n",
       "      <td>0.696071</td>\n",
       "      <td>0.704741</td>\n",
       "      <td>0.674897</td>\n",
       "      <td>0.602600</td>\n",
       "      <td>0.619834</td>\n",
       "      <td>0.170830</td>\n",
       "      <td>0.580071</td>\n",
       "    </tr>\n",
       "    <tr>\n",
       "      <th>0</th>\n",
       "      <td>KNN</td>\n",
       "      <td>0.600358</td>\n",
       "      <td>0.600358</td>\n",
       "      <td>0.621778</td>\n",
       "      <td>0.512412</td>\n",
       "      <td>0.583587</td>\n",
       "      <td>0.650707</td>\n",
       "      <td>0.167267</td>\n",
       "      <td>0.495848</td>\n",
       "    </tr>\n",
       "    <tr>\n",
       "      <th>3</th>\n",
       "      <td>NB</td>\n",
       "      <td>0.503120</td>\n",
       "      <td>0.503120</td>\n",
       "      <td>0.501576</td>\n",
       "      <td>0.993097</td>\n",
       "      <td>0.501931</td>\n",
       "      <td>0.125444</td>\n",
       "      <td>0.117904</td>\n",
       "      <td>0.994069</td>\n",
       "    </tr>\n",
       "  </tbody>\n",
       "</table>\n",
       "</div>"
      ],
      "text/plain": [
       "      Model  Train AUC  Train Accuracy  Train Precision  Train Recall  \\\n",
       "7  Ensemble   0.641577        0.641577         0.664761      0.571220   \n",
       "2       SGD   0.615492        0.615492         0.632987      0.549715   \n",
       "1    LogReg   0.620935        0.620935         0.639211      0.555290   \n",
       "5        RF   0.638856        0.638856         0.647117      0.610779   \n",
       "4       DTC   0.666999        0.666999         0.693717      0.598035   \n",
       "6       GBC   0.696071        0.696071         0.704741      0.674897   \n",
       "0       KNN   0.600358        0.600358         0.621778      0.512412   \n",
       "3        NB   0.503120        0.503120         0.501576      0.993097   \n",
       "\n",
       "   Validation AUC  Validation Accuracy  Validation Precision  \\\n",
       "7        0.621363             0.666109              0.189686   \n",
       "2        0.618973             0.663252              0.187773   \n",
       "1        0.618419             0.663182              0.187488   \n",
       "5        0.618146             0.637745              0.181307   \n",
       "4        0.600352             0.654889              0.176634   \n",
       "6        0.602600             0.619834              0.170830   \n",
       "0        0.583587             0.650707              0.167267   \n",
       "3        0.501931             0.125444              0.117904   \n",
       "\n",
       "   Validation Recall  \n",
       "7           0.562871  \n",
       "2           0.561091  \n",
       "1           0.559905  \n",
       "5           0.592527  \n",
       "4           0.529063  \n",
       "6           0.580071  \n",
       "0           0.495848  \n",
       "3           0.994069  "
      ]
     },
     "execution_count": 55,
     "metadata": {},
     "output_type": "execute_result"
    }
   ],
   "source": [
    "results_df.sort_values(by = 'Validation Precision', ascending=False)"
   ]
  },
  {
   "cell_type": "code",
   "execution_count": 56,
   "metadata": {},
   "outputs": [
    {
     "data": {
      "text/html": [
       "<div>\n",
       "<style scoped>\n",
       "    .dataframe tbody tr th:only-of-type {\n",
       "        vertical-align: middle;\n",
       "    }\n",
       "\n",
       "    .dataframe tbody tr th {\n",
       "        vertical-align: top;\n",
       "    }\n",
       "\n",
       "    .dataframe thead th {\n",
       "        text-align: right;\n",
       "    }\n",
       "</style>\n",
       "<table border=\"1\" class=\"dataframe\">\n",
       "  <thead>\n",
       "    <tr style=\"text-align: right;\">\n",
       "      <th></th>\n",
       "      <th>Model</th>\n",
       "      <th>Train AUC</th>\n",
       "      <th>Train Accuracy</th>\n",
       "      <th>Train Precision</th>\n",
       "      <th>Train Recall</th>\n",
       "      <th>Validation AUC</th>\n",
       "      <th>Validation Accuracy</th>\n",
       "      <th>Validation Precision</th>\n",
       "      <th>Validation Recall</th>\n",
       "    </tr>\n",
       "  </thead>\n",
       "  <tbody>\n",
       "    <tr>\n",
       "      <th>3</th>\n",
       "      <td>NB</td>\n",
       "      <td>0.503120</td>\n",
       "      <td>0.503120</td>\n",
       "      <td>0.501576</td>\n",
       "      <td>0.993097</td>\n",
       "      <td>0.501931</td>\n",
       "      <td>0.125444</td>\n",
       "      <td>0.117904</td>\n",
       "      <td>0.994069</td>\n",
       "    </tr>\n",
       "    <tr>\n",
       "      <th>5</th>\n",
       "      <td>RF</td>\n",
       "      <td>0.638856</td>\n",
       "      <td>0.638856</td>\n",
       "      <td>0.647117</td>\n",
       "      <td>0.610779</td>\n",
       "      <td>0.618146</td>\n",
       "      <td>0.637745</td>\n",
       "      <td>0.181307</td>\n",
       "      <td>0.592527</td>\n",
       "    </tr>\n",
       "    <tr>\n",
       "      <th>6</th>\n",
       "      <td>GBC</td>\n",
       "      <td>0.696071</td>\n",
       "      <td>0.696071</td>\n",
       "      <td>0.704741</td>\n",
       "      <td>0.674897</td>\n",
       "      <td>0.602600</td>\n",
       "      <td>0.619834</td>\n",
       "      <td>0.170830</td>\n",
       "      <td>0.580071</td>\n",
       "    </tr>\n",
       "    <tr>\n",
       "      <th>7</th>\n",
       "      <td>Ensemble</td>\n",
       "      <td>0.641577</td>\n",
       "      <td>0.641577</td>\n",
       "      <td>0.664761</td>\n",
       "      <td>0.571220</td>\n",
       "      <td>0.621363</td>\n",
       "      <td>0.666109</td>\n",
       "      <td>0.189686</td>\n",
       "      <td>0.562871</td>\n",
       "    </tr>\n",
       "    <tr>\n",
       "      <th>2</th>\n",
       "      <td>SGD</td>\n",
       "      <td>0.615492</td>\n",
       "      <td>0.615492</td>\n",
       "      <td>0.632987</td>\n",
       "      <td>0.549715</td>\n",
       "      <td>0.618973</td>\n",
       "      <td>0.663252</td>\n",
       "      <td>0.187773</td>\n",
       "      <td>0.561091</td>\n",
       "    </tr>\n",
       "    <tr>\n",
       "      <th>1</th>\n",
       "      <td>LogReg</td>\n",
       "      <td>0.620935</td>\n",
       "      <td>0.620935</td>\n",
       "      <td>0.639211</td>\n",
       "      <td>0.555290</td>\n",
       "      <td>0.618419</td>\n",
       "      <td>0.663182</td>\n",
       "      <td>0.187488</td>\n",
       "      <td>0.559905</td>\n",
       "    </tr>\n",
       "    <tr>\n",
       "      <th>4</th>\n",
       "      <td>DTC</td>\n",
       "      <td>0.666999</td>\n",
       "      <td>0.666999</td>\n",
       "      <td>0.693717</td>\n",
       "      <td>0.598035</td>\n",
       "      <td>0.600352</td>\n",
       "      <td>0.654889</td>\n",
       "      <td>0.176634</td>\n",
       "      <td>0.529063</td>\n",
       "    </tr>\n",
       "    <tr>\n",
       "      <th>0</th>\n",
       "      <td>KNN</td>\n",
       "      <td>0.600358</td>\n",
       "      <td>0.600358</td>\n",
       "      <td>0.621778</td>\n",
       "      <td>0.512412</td>\n",
       "      <td>0.583587</td>\n",
       "      <td>0.650707</td>\n",
       "      <td>0.167267</td>\n",
       "      <td>0.495848</td>\n",
       "    </tr>\n",
       "  </tbody>\n",
       "</table>\n",
       "</div>"
      ],
      "text/plain": [
       "      Model  Train AUC  Train Accuracy  Train Precision  Train Recall  \\\n",
       "3        NB   0.503120        0.503120         0.501576      0.993097   \n",
       "5        RF   0.638856        0.638856         0.647117      0.610779   \n",
       "6       GBC   0.696071        0.696071         0.704741      0.674897   \n",
       "7  Ensemble   0.641577        0.641577         0.664761      0.571220   \n",
       "2       SGD   0.615492        0.615492         0.632987      0.549715   \n",
       "1    LogReg   0.620935        0.620935         0.639211      0.555290   \n",
       "4       DTC   0.666999        0.666999         0.693717      0.598035   \n",
       "0       KNN   0.600358        0.600358         0.621778      0.512412   \n",
       "\n",
       "   Validation AUC  Validation Accuracy  Validation Precision  \\\n",
       "3        0.501931             0.125444              0.117904   \n",
       "5        0.618146             0.637745              0.181307   \n",
       "6        0.602600             0.619834              0.170830   \n",
       "7        0.621363             0.666109              0.189686   \n",
       "2        0.618973             0.663252              0.187773   \n",
       "1        0.618419             0.663182              0.187488   \n",
       "4        0.600352             0.654889              0.176634   \n",
       "0        0.583587             0.650707              0.167267   \n",
       "\n",
       "   Validation Recall  \n",
       "3           0.994069  \n",
       "5           0.592527  \n",
       "6           0.580071  \n",
       "7           0.562871  \n",
       "2           0.561091  \n",
       "1           0.559905  \n",
       "4           0.529063  \n",
       "0           0.495848  "
      ]
     },
     "execution_count": 56,
     "metadata": {},
     "output_type": "execute_result"
    }
   ],
   "source": [
    "results_df.sort_values(by = 'Validation Recall', ascending=False)"
   ]
  },
  {
   "cell_type": "code",
   "execution_count": null,
   "metadata": {},
   "outputs": [],
   "source": []
  }
 ],
 "metadata": {
  "kernelspec": {
   "display_name": "Python 3",
   "language": "python",
   "name": "python3"
  },
  "language_info": {
   "codemirror_mode": {
    "name": "ipython",
    "version": 3
   },
   "file_extension": ".py",
   "mimetype": "text/x-python",
   "name": "python",
   "nbconvert_exporter": "python",
   "pygments_lexer": "ipython3",
   "version": "3.6.10"
  }
 },
 "nbformat": 4,
 "nbformat_minor": 4
}
