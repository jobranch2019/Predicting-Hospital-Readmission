{
 "cells": [
  {
   "cell_type": "markdown",
   "metadata": {},
   "source": [
    "# Updated Modeling\n",
    "\n",
    "In this notebook we found out most effective model, the random forest classifier using sklearn, which resulted in a total cost of 1,218.84 per prediction, which is well below the baseline of 1,570.85 detailed in the Cost Matrix Excel workbook. We achieved this through hyperparameter tuning of all the models as well as mapping diagnosis codes to diagnosis categories and including them in the features.\n",
    "\n",
    "Again we will credit Andrew Long's GitHub, https://github.com/andrewwlong/diabetes_readmission/blob/master/diabetes_project.ipynb, for several of the methods used along with Dennis T's Medium article for the confusion matrix visualization, https://medium.com/@dtuk81/confusion-matrix-visualization-fc31e3f30fea. \n"
   ]
  },
  {
   "cell_type": "code",
   "execution_count": 1,
   "metadata": {},
   "outputs": [],
   "source": [
    "import pandas as pd\n",
    "import numpy as np\n",
    "import matplotlib.pyplot as plt\n",
    "import time\n",
    "from sklearn.preprocessing import StandardScaler\n",
    "from sklearn.metrics import roc_auc_score, accuracy_score, precision_score, recall_score, confusion_matrix\n",
    "import seaborn as sns"
   ]
  },
  {
   "cell_type": "markdown",
   "metadata": {},
   "source": [
    "### Load Data"
   ]
  },
  {
   "cell_type": "code",
   "execution_count": 2,
   "metadata": {},
   "outputs": [
    {
     "name": "stderr",
     "output_type": "stream",
     "text": [
      "C:\\Users\\ssear\\anaconda3\\lib\\site-packages\\IPython\\core\\interactiveshell.py:3063: DtypeWarning: Columns (10) have mixed types.Specify dtype option on import or set low_memory=False.\n",
      "  interactivity=interactivity, compiler=compiler, result=result)\n"
     ]
    },
    {
     "name": "stdout",
     "output_type": "stream",
     "text": [
      "<class 'pandas.core.frame.DataFrame'>\n",
      "RangeIndex: 101766 entries, 0 to 101765\n",
      "Data columns (total 50 columns):\n",
      " #   Column                    Non-Null Count   Dtype \n",
      "---  ------                    --------------   ----- \n",
      " 0   encounter_id              101766 non-null  int64 \n",
      " 1   patient_nbr               101766 non-null  int64 \n",
      " 2   race                      99493 non-null   object\n",
      " 3   gender                    101766 non-null  object\n",
      " 4   age                       101766 non-null  object\n",
      " 5   weight                    3197 non-null    object\n",
      " 6   admission_type_id         101766 non-null  int64 \n",
      " 7   discharge_disposition_id  101766 non-null  int64 \n",
      " 8   admission_source_id       101766 non-null  int64 \n",
      " 9   time_in_hospital          101766 non-null  int64 \n",
      " 10  payer_code                61510 non-null   object\n",
      " 11  medical_specialty         51817 non-null   object\n",
      " 12  num_lab_procedures        101766 non-null  int64 \n",
      " 13  num_procedures            101766 non-null  int64 \n",
      " 14  num_medications           101766 non-null  int64 \n",
      " 15  number_outpatient         101766 non-null  int64 \n",
      " 16  number_emergency          101766 non-null  int64 \n",
      " 17  number_inpatient          101766 non-null  int64 \n",
      " 18  diag_1                    101745 non-null  object\n",
      " 19  diag_2                    101408 non-null  object\n",
      " 20  diag_3                    100343 non-null  object\n",
      " 21  number_diagnoses          101766 non-null  int64 \n",
      " 22  max_glu_serum             101766 non-null  object\n",
      " 23  A1Cresult                 101766 non-null  object\n",
      " 24  metformin                 101766 non-null  object\n",
      " 25  repaglinide               101766 non-null  object\n",
      " 26  nateglinide               101766 non-null  object\n",
      " 27  chlorpropamide            101766 non-null  object\n",
      " 28  glimepiride               101766 non-null  object\n",
      " 29  acetohexamide             101766 non-null  object\n",
      " 30  glipizide                 101766 non-null  object\n",
      " 31  glyburide                 101766 non-null  object\n",
      " 32  tolbutamide               101766 non-null  object\n",
      " 33  pioglitazone              101766 non-null  object\n",
      " 34  rosiglitazone             101766 non-null  object\n",
      " 35  acarbose                  101766 non-null  object\n",
      " 36  miglitol                  101766 non-null  object\n",
      " 37  troglitazone              101766 non-null  object\n",
      " 38  tolazamide                101766 non-null  object\n",
      " 39  examide                   101766 non-null  object\n",
      " 40  citoglipton               101766 non-null  object\n",
      " 41  insulin                   101766 non-null  object\n",
      " 42  glyburide-metformin       101766 non-null  object\n",
      " 43  glipizide-metformin       101766 non-null  object\n",
      " 44  glimepiride-pioglitazone  101766 non-null  object\n",
      " 45  metformin-rosiglitazone   101766 non-null  object\n",
      " 46  metformin-pioglitazone    101766 non-null  object\n",
      " 47  change                    101766 non-null  object\n",
      " 48  diabetesMed               101766 non-null  object\n",
      " 49  readmitted                101766 non-null  object\n",
      "dtypes: int64(13), object(37)\n",
      "memory usage: 38.8+ MB\n"
     ]
    }
   ],
   "source": [
    "data = pd.read_csv('dataset_diabetes/diabetic_data.csv', na_values = '?')\n",
    "data.info()"
   ]
  },
  {
   "cell_type": "markdown",
   "metadata": {},
   "source": [
    "# Data Preparation"
   ]
  },
  {
   "cell_type": "markdown",
   "metadata": {},
   "source": [
    "### Update Diagnosis ID Codes"
   ]
  },
  {
   "cell_type": "code",
   "execution_count": 3,
   "metadata": {},
   "outputs": [],
   "source": [
    "def convert_code(code):\n",
    "    try:\n",
    "        code = float(code)\n",
    "        if code >= 1 and code <= 139:\n",
    "            return 1\n",
    "        elif code >= 140 and code <= 239:\n",
    "            return 2\n",
    "        elif code >= 240 and code <= 279:\n",
    "            return 3\n",
    "        elif code >= 280 and code <= 289:\n",
    "            return 4\n",
    "        elif code >= 290 and code <= 319:\n",
    "            return 5\n",
    "        elif code >= 320 and code <= 389:\n",
    "            return 6\n",
    "        elif code >= 390 and code <= 459:\n",
    "            return 7\n",
    "        elif code >= 460 and code <= 519:\n",
    "            return 8\n",
    "        elif code >= 520 and code <= 579:\n",
    "            return 9\n",
    "        elif code >= 580 and code <= 629:\n",
    "            return 10\n",
    "        elif code >= 630 and code <= 679:\n",
    "            return 11\n",
    "        elif code >= 680 and code <= 709:\n",
    "            return 12\n",
    "        elif code >= 710 and code <= 739:\n",
    "            return 13\n",
    "        elif code >= 740 and code <= 759:\n",
    "            return 14\n",
    "        elif code >= 760 and code <= 779:\n",
    "            return 15\n",
    "        elif code >= 780 and code <= 799:\n",
    "            return 16\n",
    "        elif code >= 800 and code <= 999:\n",
    "            return 17\n",
    "    except:\n",
    "        if 'V' in code:\n",
    "            return 18\n",
    "        elif 'E' in code:\n",
    "            return 19\n",
    "        else:\n",
    "            return 'Code not mapped'\n",
    "\n",
    "data['diag_1_mapped'] = data.diag_1.apply(convert_code)\n",
    "data['diag_2_mapped'] = data.diag_2.apply(convert_code)\n",
    "data['diag_3_mapped'] = data.diag_3.apply(convert_code)"
   ]
  },
  {
   "cell_type": "markdown",
   "metadata": {},
   "source": [
    "### Remove Discharge IDs relating to Hospice or Death"
   ]
  },
  {
   "cell_type": "code",
   "execution_count": 4,
   "metadata": {},
   "outputs": [],
   "source": [
    "data = data.loc[~data.discharge_disposition_id.isin([11,13,14,18,20,21])]"
   ]
  },
  {
   "cell_type": "markdown",
   "metadata": {},
   "source": [
    "### Create Target Variable"
   ]
  },
  {
   "cell_type": "code",
   "execution_count": 5,
   "metadata": {},
   "outputs": [],
   "source": [
    "data['Target_Label'] = (data.readmitted == '<30').astype(int)"
   ]
  },
  {
   "cell_type": "markdown",
   "metadata": {},
   "source": [
    "### Numerical Predictors"
   ]
  },
  {
   "cell_type": "code",
   "execution_count": 6,
   "metadata": {},
   "outputs": [],
   "source": [
    "num_col_names = ['time_in_hospital','num_lab_procedures', 'num_procedures', 'num_medications',\\\n",
    "                 'number_outpatient', 'number_emergency', 'number_inpatient','number_diagnoses']"
   ]
  },
  {
   "cell_type": "markdown",
   "metadata": {},
   "source": [
    "### Categorical Predictors"
   ]
  },
  {
   "cell_type": "code",
   "execution_count": 7,
   "metadata": {},
   "outputs": [
    {
     "data": {
      "text/html": [
       "<div>\n",
       "<style scoped>\n",
       "    .dataframe tbody tr th:only-of-type {\n",
       "        vertical-align: middle;\n",
       "    }\n",
       "\n",
       "    .dataframe tbody tr th {\n",
       "        vertical-align: top;\n",
       "    }\n",
       "\n",
       "    .dataframe thead th {\n",
       "        text-align: right;\n",
       "    }\n",
       "</style>\n",
       "<table border=\"1\" class=\"dataframe\">\n",
       "  <thead>\n",
       "    <tr style=\"text-align: right;\">\n",
       "      <th></th>\n",
       "      <th>race_Asian</th>\n",
       "      <th>race_Caucasian</th>\n",
       "      <th>race_Hispanic</th>\n",
       "      <th>race_Other</th>\n",
       "      <th>race_UNK</th>\n",
       "      <th>gender_Male</th>\n",
       "      <th>gender_Unknown/Invalid</th>\n",
       "      <th>max_glu_serum_&gt;300</th>\n",
       "      <th>max_glu_serum_None</th>\n",
       "      <th>max_glu_serum_Norm</th>\n",
       "      <th>...</th>\n",
       "      <th>med_spec_new_Emergency/Trauma</th>\n",
       "      <th>med_spec_new_Family/GeneralPractice</th>\n",
       "      <th>med_spec_new_InternalMedicine</th>\n",
       "      <th>med_spec_new_Nephrology</th>\n",
       "      <th>med_spec_new_Orthopedics</th>\n",
       "      <th>med_spec_new_Orthopedics-Reconstructive</th>\n",
       "      <th>med_spec_new_Other</th>\n",
       "      <th>med_spec_new_Radiologist</th>\n",
       "      <th>med_spec_new_Surgery-General</th>\n",
       "      <th>med_spec_new_UNK</th>\n",
       "    </tr>\n",
       "  </thead>\n",
       "  <tbody>\n",
       "    <tr>\n",
       "      <th>0</th>\n",
       "      <td>0</td>\n",
       "      <td>1</td>\n",
       "      <td>0</td>\n",
       "      <td>0</td>\n",
       "      <td>0</td>\n",
       "      <td>0</td>\n",
       "      <td>0</td>\n",
       "      <td>0</td>\n",
       "      <td>1</td>\n",
       "      <td>0</td>\n",
       "      <td>...</td>\n",
       "      <td>0</td>\n",
       "      <td>0</td>\n",
       "      <td>0</td>\n",
       "      <td>0</td>\n",
       "      <td>0</td>\n",
       "      <td>0</td>\n",
       "      <td>1</td>\n",
       "      <td>0</td>\n",
       "      <td>0</td>\n",
       "      <td>0</td>\n",
       "    </tr>\n",
       "    <tr>\n",
       "      <th>1</th>\n",
       "      <td>0</td>\n",
       "      <td>1</td>\n",
       "      <td>0</td>\n",
       "      <td>0</td>\n",
       "      <td>0</td>\n",
       "      <td>0</td>\n",
       "      <td>0</td>\n",
       "      <td>0</td>\n",
       "      <td>1</td>\n",
       "      <td>0</td>\n",
       "      <td>...</td>\n",
       "      <td>0</td>\n",
       "      <td>0</td>\n",
       "      <td>0</td>\n",
       "      <td>0</td>\n",
       "      <td>0</td>\n",
       "      <td>0</td>\n",
       "      <td>0</td>\n",
       "      <td>0</td>\n",
       "      <td>0</td>\n",
       "      <td>1</td>\n",
       "    </tr>\n",
       "    <tr>\n",
       "      <th>2</th>\n",
       "      <td>0</td>\n",
       "      <td>0</td>\n",
       "      <td>0</td>\n",
       "      <td>0</td>\n",
       "      <td>0</td>\n",
       "      <td>0</td>\n",
       "      <td>0</td>\n",
       "      <td>0</td>\n",
       "      <td>1</td>\n",
       "      <td>0</td>\n",
       "      <td>...</td>\n",
       "      <td>0</td>\n",
       "      <td>0</td>\n",
       "      <td>0</td>\n",
       "      <td>0</td>\n",
       "      <td>0</td>\n",
       "      <td>0</td>\n",
       "      <td>0</td>\n",
       "      <td>0</td>\n",
       "      <td>0</td>\n",
       "      <td>1</td>\n",
       "    </tr>\n",
       "    <tr>\n",
       "      <th>3</th>\n",
       "      <td>0</td>\n",
       "      <td>1</td>\n",
       "      <td>0</td>\n",
       "      <td>0</td>\n",
       "      <td>0</td>\n",
       "      <td>1</td>\n",
       "      <td>0</td>\n",
       "      <td>0</td>\n",
       "      <td>1</td>\n",
       "      <td>0</td>\n",
       "      <td>...</td>\n",
       "      <td>0</td>\n",
       "      <td>0</td>\n",
       "      <td>0</td>\n",
       "      <td>0</td>\n",
       "      <td>0</td>\n",
       "      <td>0</td>\n",
       "      <td>0</td>\n",
       "      <td>0</td>\n",
       "      <td>0</td>\n",
       "      <td>1</td>\n",
       "    </tr>\n",
       "    <tr>\n",
       "      <th>4</th>\n",
       "      <td>0</td>\n",
       "      <td>1</td>\n",
       "      <td>0</td>\n",
       "      <td>0</td>\n",
       "      <td>0</td>\n",
       "      <td>1</td>\n",
       "      <td>0</td>\n",
       "      <td>0</td>\n",
       "      <td>1</td>\n",
       "      <td>0</td>\n",
       "      <td>...</td>\n",
       "      <td>0</td>\n",
       "      <td>0</td>\n",
       "      <td>0</td>\n",
       "      <td>0</td>\n",
       "      <td>0</td>\n",
       "      <td>0</td>\n",
       "      <td>0</td>\n",
       "      <td>0</td>\n",
       "      <td>0</td>\n",
       "      <td>1</td>\n",
       "    </tr>\n",
       "  </tbody>\n",
       "</table>\n",
       "<p>5 rows × 186 columns</p>\n",
       "</div>"
      ],
      "text/plain": [
       "   race_Asian  race_Caucasian  race_Hispanic  race_Other  race_UNK  \\\n",
       "0           0               1              0           0         0   \n",
       "1           0               1              0           0         0   \n",
       "2           0               0              0           0         0   \n",
       "3           0               1              0           0         0   \n",
       "4           0               1              0           0         0   \n",
       "\n",
       "   gender_Male  gender_Unknown/Invalid  max_glu_serum_>300  \\\n",
       "0            0                       0                   0   \n",
       "1            0                       0                   0   \n",
       "2            0                       0                   0   \n",
       "3            1                       0                   0   \n",
       "4            1                       0                   0   \n",
       "\n",
       "   max_glu_serum_None  max_glu_serum_Norm  ...  med_spec_new_Emergency/Trauma  \\\n",
       "0                   1                   0  ...                              0   \n",
       "1                   1                   0  ...                              0   \n",
       "2                   1                   0  ...                              0   \n",
       "3                   1                   0  ...                              0   \n",
       "4                   1                   0  ...                              0   \n",
       "\n",
       "   med_spec_new_Family/GeneralPractice  med_spec_new_InternalMedicine  \\\n",
       "0                                    0                              0   \n",
       "1                                    0                              0   \n",
       "2                                    0                              0   \n",
       "3                                    0                              0   \n",
       "4                                    0                              0   \n",
       "\n",
       "   med_spec_new_Nephrology  med_spec_new_Orthopedics  \\\n",
       "0                        0                         0   \n",
       "1                        0                         0   \n",
       "2                        0                         0   \n",
       "3                        0                         0   \n",
       "4                        0                         0   \n",
       "\n",
       "   med_spec_new_Orthopedics-Reconstructive  med_spec_new_Other  \\\n",
       "0                                        0                   1   \n",
       "1                                        0                   0   \n",
       "2                                        0                   0   \n",
       "3                                        0                   0   \n",
       "4                                        0                   0   \n",
       "\n",
       "   med_spec_new_Radiologist  med_spec_new_Surgery-General  med_spec_new_UNK  \n",
       "0                         0                             0                 0  \n",
       "1                         0                             0                 1  \n",
       "2                         0                             0                 1  \n",
       "3                         0                             0                 1  \n",
       "4                         0                             0                 1  \n",
       "\n",
       "[5 rows x 186 columns]"
      ]
     },
     "execution_count": 7,
     "metadata": {},
     "output_type": "execute_result"
    }
   ],
   "source": [
    "cat_col_names = ['race', 'gender', 'max_glu_serum', 'A1Cresult', 'metformin', 'repaglinide',\\\n",
    "                 'nateglinide', 'chlorpropamide', 'glimepiride', 'acetohexamide', 'glipizide',\\\n",
    "                 'glyburide', 'tolbutamide', 'pioglitazone', 'rosiglitazone', 'acarbose',\\\n",
    "                 'miglitol', 'troglitazone','tolazamide', 'insulin', 'glyburide-metformin',\\\n",
    "                 'glipizide-metformin','glimepiride-pioglitazone', 'metformin-rosiglitazone',\\\n",
    "                 'metformin-pioglitazone', 'change', 'diabetesMed','payer_code']\n",
    "\n",
    "# Fill NA with 'UNK'\n",
    "data['race'] = data['race'].fillna('UNK')\n",
    "data['payer_code'] = data['payer_code'].fillna('UNK')\n",
    "data['medical_specialty'] = data['medical_specialty'].fillna('UNK')\n",
    "data['diag_1_mapped'] = data['diag_1_mapped'].fillna('UNK')\n",
    "data['diag_2_mapped'] = data['diag_2_mapped'].fillna('UNK')\n",
    "data['diag_3_mapped'] = data['diag_3_mapped'].fillna('UNK')\n",
    "\n",
    "# Get top 10 medical specialties\n",
    "top_10_spec = list(data['medical_specialty'].value_counts(dropna=False)[0:10].index)\n",
    "\n",
    "# New medical_specialty column\n",
    "data['med_spec_new'] = data['medical_specialty'].copy()\n",
    "\n",
    "# Replace values with 'Other' if not in Top 10\n",
    "data.loc[~data.med_spec_new.isin(top_10_spec), 'med_spec_new'] = 'Other'\n",
    "\n",
    "# Convert Numerical Categorical Columns to strings\n",
    "cat_col_num = ['admission_type_id', 'discharge_disposition_id', 'admission_source_id',\\\n",
    "               'diag_1_mapped', 'diag_2_mapped', 'diag_3_mapped']\n",
    "data[cat_col_num] = data[cat_col_num].astype(str)\n",
    "\n",
    "# Create Categorical Predictors DataFrame\n",
    "data_cat = pd.get_dummies(data[cat_col_names + cat_col_num + ['med_spec_new']], drop_first = True)\n",
    "\n",
    "data_cat.head()"
   ]
  },
  {
   "cell_type": "code",
   "execution_count": 8,
   "metadata": {},
   "outputs": [],
   "source": [
    "# Add Categorical Predictor Variables to main DataFrame\n",
    "data = pd.concat([data, data_cat], axis = 1)\n",
    "\n",
    "# Retain columns of data_cat\n",
    "data_cat_cols = list(data_cat.columns)"
   ]
  },
  {
   "cell_type": "markdown",
   "metadata": {},
   "source": [
    "### Features"
   ]
  },
  {
   "cell_type": "code",
   "execution_count": 9,
   "metadata": {},
   "outputs": [],
   "source": [
    "# Create Age Group Variable\n",
    "age_dict = {'[0-10)':0, \n",
    "            '[10-20)':10, \n",
    "            '[20-30)':20, \n",
    "            '[30-40)':30, \n",
    "            '[40-50)':40, \n",
    "            '[50-60)':50,\n",
    "            '[60-70)':60, \n",
    "            '[70-80)':70, \n",
    "            '[80-90)':80, \n",
    "            '[90-100)':90}\n",
    "data['age_group'] = data.age.replace(age_dict)\n",
    "\n",
    "# Create Age Variable\n",
    "data['has_weight'] = data.weight.notnull().astype('int')\n",
    "\n",
    "# Save feature names\n",
    "features = ['age_group', 'has_weight']"
   ]
  },
  {
   "cell_type": "markdown",
   "metadata": {},
   "source": [
    "### Summary of Variables for Modeling"
   ]
  },
  {
   "cell_type": "code",
   "execution_count": 10,
   "metadata": {},
   "outputs": [
    {
     "name": "stdout",
     "output_type": "stream",
     "text": [
      "Total number of predictors: 196\n",
      "Numerical predictors: 8\n",
      "Categorical predictors: 186\n",
      "Features: 2\n"
     ]
    }
   ],
   "source": [
    "print('Total number of predictors:', len(num_col_names + data_cat_cols + features))\n",
    "print('Numerical predictors:',len(num_col_names))\n",
    "print('Categorical predictors:',len(data_cat_cols))\n",
    "print('Features:',len(features))"
   ]
  },
  {
   "cell_type": "code",
   "execution_count": 11,
   "metadata": {},
   "outputs": [
    {
     "data": {
      "text/plain": [
       "has_weight               0\n",
       "payer_code_CP            0\n",
       "payer_code_CH            0\n",
       "diabetesMed_Yes          0\n",
       "change_No                0\n",
       "                        ..\n",
       "admission_source_id_8    0\n",
       "admission_source_id_7    0\n",
       "admission_source_id_6    0\n",
       "admission_source_id_5    0\n",
       "time_in_hospital         0\n",
       "Length: 196, dtype: int64"
      ]
     },
     "execution_count": 11,
     "metadata": {},
     "output_type": "execute_result"
    }
   ],
   "source": [
    "# Check Missing Data\n",
    "data[num_col_names + data_cat_cols + features].isnull().sum().sort_values(ascending=False)"
   ]
  },
  {
   "cell_type": "code",
   "execution_count": 12,
   "metadata": {},
   "outputs": [],
   "source": [
    "# Dataframe for modeling\n",
    "model_data = data[num_col_names + data_cat_cols + features + ['Target_Label']]"
   ]
  },
  {
   "cell_type": "markdown",
   "metadata": {},
   "source": [
    "# Modeling Prep"
   ]
  },
  {
   "cell_type": "markdown",
   "metadata": {},
   "source": [
    "### Split Data"
   ]
  },
  {
   "cell_type": "code",
   "execution_count": 13,
   "metadata": {},
   "outputs": [],
   "source": [
    "# Shuffle Data\n",
    "model_data = model_data.sample(n=len(model_data),random_state=10)\n",
    "model_data = model_data.reset_index(drop=True)\n",
    "\n",
    "# 15% Validation / 15% Test split / 70% Train\n",
    "vd_test = model_data.sample(frac=0.3, random_state=10)\n",
    "test_data = vd_test.sample(frac=0.5, random_state=10)\n",
    "vd_data = vd_test.drop(test_data.index)\n",
    "train_data = model_data.drop(vd_test.index)"
   ]
  },
  {
   "cell_type": "code",
   "execution_count": 14,
   "metadata": {},
   "outputs": [
    {
     "name": "stdout",
     "output_type": "stream",
     "text": [
      "Readmission Rates by Set\n",
      "Test:  0.1140149139312844\n",
      "Validation:  0.11749947731549237\n",
      "Train:  0.11249663988530809\n"
     ]
    }
   ],
   "source": [
    "print('Readmission Rates by Set')\n",
    "print('Test: ', test_data[test_data['Target_Label']==1].shape[0]/test_data.shape[0])\n",
    "print('Validation: ', vd_data[vd_data['Target_Label']==1].shape[0]/vd_data.shape[0])\n",
    "print('Train: ', train_data[train_data['Target_Label']==1].shape[0]/train_data.shape[0])"
   ]
  },
  {
   "cell_type": "markdown",
   "metadata": {},
   "source": [
    "### Balance Training Data"
   ]
  },
  {
   "cell_type": "code",
   "execution_count": 15,
   "metadata": {},
   "outputs": [
    {
     "name": "stdout",
     "output_type": "stream",
     "text": [
      "Readmission Rates by Set\n",
      "Test:  0.1140149139312844\n",
      "Validation:  0.11749947731549237\n",
      "Train:  0.11249663988530809\n",
      "Train Balanced:  0.5\n"
     ]
    }
   ],
   "source": [
    "# Split training data into positive and negative\n",
    "positive = train_data.Target_Label == 1\n",
    "train_data_pos = train_data.loc[positive]\n",
    "train_data_neg = train_data.loc[~positive]\n",
    "\n",
    "# Merge and Balance\n",
    "train_data_balanced = pd.concat([train_data_pos, train_data_neg.sample(n = len(train_data_pos), random_state=10)], axis = 0)\n",
    "\n",
    "# Shuffle\n",
    "train_data_balanced = train_data_balanced.sample(n = len(train_data_balanced), random_state = 10).reset_index(drop=True)\n",
    "\n",
    "print('Readmission Rates by Set')\n",
    "print('Test: ', test_data[test_data['Target_Label']==1].shape[0]/test_data.shape[0])\n",
    "print('Validation: ', vd_data[vd_data['Target_Label']==1].shape[0]/vd_data.shape[0])\n",
    "print('Train: ', train_data[train_data['Target_Label']==1].shape[0]/train_data.shape[0])\n",
    "print('Train Balanced: ', train_data_balanced[train_data_balanced['Target_Label']==1].shape[0]/train_data_balanced.shape[0])"
   ]
  },
  {
   "cell_type": "markdown",
   "metadata": {},
   "source": [
    "### Create Input Matrices and Output Vectors"
   ]
  },
  {
   "cell_type": "code",
   "execution_count": 16,
   "metadata": {},
   "outputs": [
    {
     "name": "stdout",
     "output_type": "stream",
     "text": [
      "Training Matrix: (66962, 196)\n",
      "Balanced Training Matrix, Label: (15066, 196) 15066\n",
      "Validation Matrix, Label: (14349, 196) 14349\n"
     ]
    }
   ],
   "source": [
    "train_matrix = train_data[num_col_names + data_cat_cols + features].values\n",
    "train_balanced_matrix = train_data_balanced[num_col_names + data_cat_cols + features].values\n",
    "vd_matrix = vd_data[num_col_names + data_cat_cols + features].values\n",
    "\n",
    "train_labels = train_data_balanced['Target_Label'].values\n",
    "vd_labels = vd_data['Target_Label'].values\n",
    "\n",
    "print('Training Matrix:',train_matrix.shape)\n",
    "print('Balanced Training Matrix, Label:',train_balanced_matrix.shape, train_labels.shape[0])\n",
    "print('Validation Matrix, Label:',vd_matrix.shape, vd_labels.shape[0])"
   ]
  },
  {
   "cell_type": "markdown",
   "metadata": {},
   "source": [
    "### Scaling"
   ]
  },
  {
   "cell_type": "code",
   "execution_count": 17,
   "metadata": {},
   "outputs": [],
   "source": [
    "scaler = StandardScaler()\n",
    "scaler.fit(train_matrix)\n",
    "\n",
    "scaled_train = scaler.transform(train_balanced_matrix)\n",
    "scaled_vd = scaler.transform(vd_matrix)"
   ]
  },
  {
   "cell_type": "markdown",
   "metadata": {},
   "source": [
    "### Dataframes for Ensemble Model"
   ]
  },
  {
   "cell_type": "code",
   "execution_count": 18,
   "metadata": {},
   "outputs": [],
   "source": [
    "ensemble_train = pd.DataFrame({'Truth': train_labels})\n",
    "ensemble_validation = pd.DataFrame({'Truth': vd_labels})"
   ]
  },
  {
   "cell_type": "markdown",
   "metadata": {},
   "source": [
    "# Modeling"
   ]
  },
  {
   "cell_type": "code",
   "execution_count": 44,
   "metadata": {},
   "outputs": [],
   "source": [
    "def report(actual, predicted):\n",
    "    AUC = roc_auc_score(actual, predicted)\n",
    "    accuracy = accuracy_score(actual, predicted)\n",
    "    precision = precision_score(actual, predicted)\n",
    "    recall = recall_score(actual, predicted)\n",
    "    print('AUC: ', AUC)\n",
    "    print('Accuracy: ', accuracy)\n",
    "    print('Precision: ', precision)\n",
    "    print('Recall: ', recall)\n",
    "    print('Confusion Matrix:')\n",
    "    conf_matrix = confusion_matrix(actual, predicted)\n",
    "    group_names = ['True Neg','False Pos','False Neg','True Pos']\n",
    "    group_counts = ['{0:0.0f}'.format(value) for value in conf_matrix.flatten()]\n",
    "    group_percentages = ['{0:.2%}'.format(value) for value in conf_matrix.flatten()/np.sum(conf_matrix)]\n",
    "    labels = [f'{v1}\\n{v2}\\n{v3}' for v1, v2, v3 in zip(group_names,group_counts,group_percentages)]\n",
    "    labels = np.asarray(labels).reshape(2,2)\n",
    "    sns.heatmap(conf_matrix, annot=labels, fmt='', cmap='Blues')\n",
    "    \n",
    "    cost = ((int(group_counts[1])*1780)+(int(group_counts[2])*14400))/len(actual)\n",
    "    print('Cost: ',cost)\n",
    "    \n",
    "    return AUC, accuracy, precision, recall, cost"
   ]
  },
  {
   "cell_type": "markdown",
   "metadata": {},
   "source": [
    "### K Nearest Neighbors"
   ]
  },
  {
   "cell_type": "code",
   "execution_count": 21,
   "metadata": {},
   "outputs": [
    {
     "data": {
      "text/plain": [
       "KNeighborsClassifier(n_neighbors=100)"
      ]
     },
     "execution_count": 21,
     "metadata": {},
     "output_type": "execute_result"
    }
   ],
   "source": [
    "from sklearn.neighbors import KNeighborsClassifier\n",
    "knn = KNeighborsClassifier(n_neighbors = 100)\n",
    "knn.fit(scaled_train, train_labels)"
   ]
  },
  {
   "cell_type": "code",
   "execution_count": 22,
   "metadata": {},
   "outputs": [
    {
     "name": "stdout",
     "output_type": "stream",
     "text": [
      "Train:\n",
      "AUC:  0.607593256338776\n",
      "Accuracy:  0.607593256338776\n",
      "Precision:  0.6221184270001506\n",
      "Recall:  0.5481215983008098\n",
      "Confusion Matrix:\n",
      "Cost:  3549.836718438869\n"
     ]
    },
    {
     "data": {
      "image/png": "[encoded data removed]",
      "text/plain": [
       "<Figure size 432x288 with 2 Axes>"
      ]
     },
     "metadata": {
      "needs_background": "light"
     },
     "output_type": "display_data"
    }
   ],
   "source": [
    "train_predictions = knn.predict_proba(scaled_train)[:,1]\n",
    "train_predictions[train_predictions > 0.5] = 1\n",
    "train_predictions[train_predictions <= 0.5] = 0\n",
    "print('Train:')\n",
    "knn_train_AUC, knn_train_accuracy, knn_train_precision, knn_train_recall, knn_train_cost = report(train_labels, train_predictions)\n",
    "ensemble_train['KNN_train_predictions'] = train_predictions"
   ]
  },
  {
   "cell_type": "code",
   "execution_count": 23,
   "metadata": {},
   "outputs": [
    {
     "name": "stdout",
     "output_type": "stream",
     "text": [
      "Validation:\n",
      "AUC:  0.5885916685566125\n",
      "Accuracy:  0.6277789392989058\n",
      "Precision:  0.16572160234132066\n",
      "Recall:  0.5373665480427047\n",
      "Confusion Matrix:\n",
      "Cost:  1348.566450623737\n"
     ]
    },
    {
     "data": {
      "image/png": "[encoded data removed]",
      "text/plain": [
       "<Figure size 432x288 with 2 Axes>"
      ]
     },
     "metadata": {
      "needs_background": "light"
     },
     "output_type": "display_data"
    }
   ],
   "source": [
    "vd_predictions = knn.predict_proba(scaled_vd)[:,1]\n",
    "vd_predictions[vd_predictions > 0.5] = 1\n",
    "vd_predictions[vd_predictions <= 0.5] = 0\n",
    "print('Validation:')\n",
    "knn_vd_AUC, knn_vd_accuracy, knn_vd_precision, knn_vd_recall, knn_vd_cost = report(vd_labels, vd_predictions)\n",
    "ensemble_validation['KNN_validation_predictions'] = vd_predictions"
   ]
  },
  {
   "cell_type": "markdown",
   "metadata": {},
   "source": [
    "### Logistic Regression"
   ]
  },
  {
   "cell_type": "code",
   "execution_count": 70,
   "metadata": {},
   "outputs": [
    {
     "name": "stderr",
     "output_type": "stream",
     "text": [
      "C:\\Users\\ssear\\anaconda3\\envs\\py36\\lib\\site-packages\\sklearn\\linear_model\\_logistic.py:764: ConvergenceWarning: lbfgs failed to converge (status=1):\n",
      "STOP: TOTAL NO. of ITERATIONS REACHED LIMIT.\n",
      "\n",
      "Increase the number of iterations (max_iter) or scale the data as shown in:\n",
      "    https://scikit-learn.org/stable/modules/preprocessing.html\n",
      "Please also refer to the documentation for alternative solver options:\n",
      "    https://scikit-learn.org/stable/modules/linear_model.html#logistic-regression\n",
      "  extra_warning_msg=_LOGISTIC_SOLVER_CONVERGENCE_MSG)\n"
     ]
    },
    {
     "data": {
      "text/plain": [
       "LogisticRegression(class_weight={0: 0.6, 1: 1}, random_state=10)"
      ]
     },
     "execution_count": 70,
     "metadata": {},
     "output_type": "execute_result"
    }
   ],
   "source": [
    "from sklearn.linear_model import LogisticRegression\n",
    "logistic_regression = LogisticRegression(penalty = 'l2', random_state=10, class_weight={0:0.6, 1:1})\n",
    "logistic_regression.fit(scaled_train, train_labels)"
   ]
  },
  {
   "cell_type": "code",
   "execution_count": 71,
   "metadata": {},
   "outputs": [
    {
     "name": "stdout",
     "output_type": "stream",
     "text": [
      "Train:\n",
      "AUC:  0.5959113235098898\n",
      "Accuracy:  0.5959113235098898\n",
      "Precision:  0.5617257582229817\n",
      "Recall:  0.8728262312491704\n",
      "Confusion Matrix:\n",
      "Cost:  1521.7443249701314\n"
     ]
    },
    {
     "data": {
      "image/png": "[encoded data removed]",
      "text/plain": [
       "<Figure size 432x288 with 2 Axes>"
      ]
     },
     "metadata": {
      "needs_background": "light"
     },
     "output_type": "display_data"
    }
   ],
   "source": [
    "train_predictions = logistic_regression.predict_proba(scaled_train)[:,1]\n",
    "train_predictions[train_predictions > 0.5] = 1\n",
    "train_predictions[train_predictions <= 0.5] = 0\n",
    "print('Train:')\n",
    "lr_train_AUC, lr_train_accuracy, lr_train_precision, lr_train_recall, lr_train_cost = report(train_labels, train_predictions)\n",
    "ensemble_train['LG_train_predictions'] = train_predictions"
   ]
  },
  {
   "cell_type": "code",
   "execution_count": 72,
   "metadata": {},
   "outputs": [
    {
     "name": "stdout",
     "output_type": "stream",
     "text": [
      "Validation:\n",
      "AUC:  0.5808441552054449\n",
      "Accuracy:  0.36817896717541293\n",
      "Precision:  0.1409108602569093\n",
      "Recall:  0.8588374851720048\n",
      "Confusion Matrix:\n",
      "Cost:  1333.9633423931982\n"
     ]
    },
    {
     "data": {
      "image/png": "[encoded data removed]",
      "text/plain": [
       "<Figure size 432x288 with 2 Axes>"
      ]
     },
     "metadata": {
      "needs_background": "light"
     },
     "output_type": "display_data"
    }
   ],
   "source": [
    "vd_predictions = logistic_regression.predict_proba(scaled_vd)[:,1]\n",
    "vd_predictions[vd_predictions > 0.5] = 1\n",
    "vd_predictions[vd_predictions <= 0.5] = 0\n",
    "print('Validation:')\n",
    "lr_vd_AUC, lr_vd_accuracy, lr_vd_precision, lr_vd_recall, lr_vd_cost = report(vd_labels, vd_predictions)\n",
    "ensemble_validation['LG_validation_predictions'] = vd_predictions"
   ]
  },
  {
   "cell_type": "markdown",
   "metadata": {},
   "source": [
    "### Stochastic Gradient Descent"
   ]
  },
  {
   "cell_type": "code",
   "execution_count": 229,
   "metadata": {},
   "outputs": [
    {
     "data": {
      "text/plain": [
       "SGDClassifier(alpha=0.3, loss='log', random_state=10)"
      ]
     },
     "execution_count": 229,
     "metadata": {},
     "output_type": "execute_result"
    }
   ],
   "source": [
    "from sklearn.linear_model import SGDClassifier\n",
    "sgd = SGDClassifier(loss = 'log', alpha = 0.3, random_state=10)\n",
    "sgd.fit(scaled_train, train_labels)"
   ]
  },
  {
   "cell_type": "code",
   "execution_count": 230,
   "metadata": {},
   "outputs": [
    {
     "name": "stdout",
     "output_type": "stream",
     "text": [
      "Train:\n",
      "AUC:  0.6212664277180407\n",
      "Accuracy:  0.6212664277180406\n",
      "Precision:  0.6360387192851824\n",
      "Recall:  0.566971989911058\n",
      "Confusion Matrix:\n",
      "Cost:  3406.5525023231116\n"
     ]
    },
    {
     "data": {
      "image/png": "[encoded data removed]",
      "text/plain": [
       "<Figure size 432x288 with 2 Axes>"
      ]
     },
     "metadata": {
      "needs_background": "light"
     },
     "output_type": "display_data"
    }
   ],
   "source": [
    "train_predictions = sgd.predict_proba(scaled_train)[:,1]\n",
    "train_predictions[train_predictions > 0.5] = 1\n",
    "train_predictions[train_predictions <= 0.5] = 0\n",
    "print('Train:')\n",
    "sgd_train_AUC, sgd_train_accuracy, sgd_train_precision, sgd_train_recall, sgd_train_cost = report(train_labels, train_predictions)\n",
    "ensemble_train['SGD_train_predictions'] = train_predictions"
   ]
  },
  {
   "cell_type": "code",
   "execution_count": 231,
   "metadata": {},
   "outputs": [
    {
     "name": "stdout",
     "output_type": "stream",
     "text": [
      "Validation:\n",
      "AUC:  0.6110948814645634\n",
      "Accuracy:  0.6498013798871002\n",
      "Precision:  0.18072289156626506\n",
      "Recall:  0.5604982206405694\n",
      "Confusion Matrix:\n",
      "Cost:  1275.0658582479616\n"
     ]
    },
    {
     "data": {
      "image/png": "[encoded data removed]",
      "text/plain": [
       "<Figure size 432x288 with 2 Axes>"
      ]
     },
     "metadata": {
      "needs_background": "light"
     },
     "output_type": "display_data"
    }
   ],
   "source": [
    "vd_predictions = sgd.predict_proba(scaled_vd)[:,1]\n",
    "vd_predictions[vd_predictions > 0.5] = 1\n",
    "vd_predictions[vd_predictions <= 0.5] = 0\n",
    "print('Validation:')\n",
    "sgd_vd_AUC, sgd_vd_accuracy, sgd_vd_precision, sgd_vd_recall, sgd_vd_cost = report(vd_labels, vd_predictions)\n",
    "ensemble_validation['SGD_validation_predictions'] = vd_predictions"
   ]
  },
  {
   "cell_type": "markdown",
   "metadata": {},
   "source": [
    "### Naive Bayes"
   ]
  },
  {
   "cell_type": "code",
   "execution_count": 76,
   "metadata": {},
   "outputs": [
    {
     "data": {
      "text/plain": [
       "GaussianNB()"
      ]
     },
     "execution_count": 76,
     "metadata": {},
     "output_type": "execute_result"
    }
   ],
   "source": [
    "from sklearn.naive_bayes import GaussianNB\n",
    "nb = GaussianNB()\n",
    "nb.fit(scaled_train, train_labels)"
   ]
  },
  {
   "cell_type": "code",
   "execution_count": 77,
   "metadata": {},
   "outputs": [
    {
     "name": "stdout",
     "output_type": "stream",
     "text": [
      "Train:\n",
      "AUC:  0.5065047125979025\n",
      "Accuracy:  0.5065047125979025\n",
      "Precision:  0.5033215835140998\n",
      "Recall:  0.985663082437276\n",
      "Confusion Matrix:\n",
      "Cost:  968.887561396522\n"
     ]
    },
    {
     "data": {
      "image/png": "[encoded data removed]",
      "text/plain": [
       "<Figure size 432x288 with 2 Axes>"
      ]
     },
     "metadata": {
      "needs_background": "light"
     },
     "output_type": "display_data"
    }
   ],
   "source": [
    "train_predictions = nb.predict_proba(scaled_train)[:,1]\n",
    "train_predictions[train_predictions > 0.5] = 1\n",
    "train_predictions[train_predictions <= 0.5] = 0\n",
    "print('Train:')\n",
    "nb_train_AUC, nb_train_accuracy, nb_train_precision, nb_train_recall, nb_train_cost = report(train_labels, train_predictions)\n",
    "ensemble_train['NB_train_predictions'] = train_predictions"
   ]
  },
  {
   "cell_type": "code",
   "execution_count": 78,
   "metadata": {},
   "outputs": [
    {
     "name": "stdout",
     "output_type": "stream",
     "text": [
      "Validation:\n",
      "AUC:  0.5028890878601401\n",
      "Accuracy:  0.13666457592863615\n",
      "Precision:  0.11811304596060519\n",
      "Recall:  0.9816132858837485\n",
      "Confusion Matrix:\n",
      "Cost:  1564.0016725904245\n"
     ]
    },
    {
     "data": {
      "image/png": "[encoded data removed]",
      "text/plain": [
       "<Figure size 432x288 with 2 Axes>"
      ]
     },
     "metadata": {
      "needs_background": "light"
     },
     "output_type": "display_data"
    }
   ],
   "source": [
    "vd_predictions = nb.predict_proba(scaled_vd)[:,1]\n",
    "vd_predictions[vd_predictions > 0.5] = 1\n",
    "vd_predictions[vd_predictions <= 0.5] = 0\n",
    "print('Validation:')\n",
    "nb_vd_AUC, nb_vd_accuracy, nb_vd_precision, nb_vd_recall, nb_vd_cost = report(vd_labels, vd_predictions)\n",
    "ensemble_validation['NB_validation_predictions'] = vd_predictions"
   ]
  },
  {
   "cell_type": "markdown",
   "metadata": {},
   "source": [
    "### Decision Tree Classifier"
   ]
  },
  {
   "cell_type": "code",
   "execution_count": 79,
   "metadata": {},
   "outputs": [
    {
     "data": {
      "text/plain": [
       "DecisionTreeClassifier(max_depth=10, random_state=10)"
      ]
     },
     "execution_count": 79,
     "metadata": {},
     "output_type": "execute_result"
    }
   ],
   "source": [
    "from sklearn.tree import DecisionTreeClassifier\n",
    "\n",
    "dt = DecisionTreeClassifier(max_depth = 10, random_state = 10)\n",
    "dt.fit(scaled_train, train_labels)"
   ]
  },
  {
   "cell_type": "code",
   "execution_count": 80,
   "metadata": {},
   "outputs": [
    {
     "name": "stdout",
     "output_type": "stream",
     "text": [
      "Train:\n",
      "AUC:  0.6667994159033586\n",
      "Accuracy:  0.6667994159033586\n",
      "Precision:  0.6928626247122026\n",
      "Recall:  0.599230054427187\n",
      "Confusion Matrix:\n",
      "Cost:  3121.9553962564714\n"
     ]
    },
    {
     "data": {
      "image/png": "[encoded data removed]",
      "text/plain": [
       "<Figure size 432x288 with 2 Axes>"
      ]
     },
     "metadata": {
      "needs_background": "light"
     },
     "output_type": "display_data"
    }
   ],
   "source": [
    "train_predictions = dt.predict_proba(scaled_train)[:,1]\n",
    "train_predictions[train_predictions > 0.5] = 1\n",
    "train_predictions[train_predictions <= 0.5] = 0\n",
    "print('Train:')\n",
    "dt_train_AUC, dt_train_accuracy, dt_train_precision, dt_train_recall, dt_train_cost = report(train_labels, train_predictions)\n",
    "ensemble_train['DTC_train_predictions'] = train_predictions"
   ]
  },
  {
   "cell_type": "code",
   "execution_count": 81,
   "metadata": {},
   "outputs": [
    {
     "name": "stdout",
     "output_type": "stream",
     "text": [
      "Validation:\n",
      "AUC:  0.6035741616158039\n",
      "Accuracy:  0.6564917415847794\n",
      "Precision:  0.17859266600594648\n",
      "Recall:  0.5344009489916963\n",
      "Confusion Matrix:\n",
      "Cost:  1301.8551815457524\n"
     ]
    },
    {
     "data": {
      "image/png": "[encoded data removed]",
      "text/plain": [
       "<Figure size 432x288 with 2 Axes>"
      ]
     },
     "metadata": {
      "needs_background": "light"
     },
     "output_type": "display_data"
    }
   ],
   "source": [
    "vd_predictions = dt.predict_proba(scaled_vd)[:,1]\n",
    "vd_predictions[vd_predictions > 0.5] = 1\n",
    "vd_predictions[vd_predictions <= 0.5] = 0\n",
    "print('Validation:')\n",
    "dt_vd_AUC, dt_vd_accuracy, dt_vd_precision, dt_vd_recall, dt_vd_cost = report(vd_labels, vd_predictions)\n",
    "ensemble_validation['DTC_validation_predictions'] = vd_predictions"
   ]
  },
  {
   "cell_type": "markdown",
   "metadata": {},
   "source": [
    "### Cost Sensitive Random Forest"
   ]
  },
  {
   "cell_type": "code",
   "execution_count": 147,
   "metadata": {},
   "outputs": [
    {
     "data": {
      "text/plain": [
       "(15066, 4)"
      ]
     },
     "execution_count": 147,
     "metadata": {},
     "output_type": "execute_result"
    }
   ],
   "source": [
    "cost_matrix = np.array([[15, 50, 0, 0]])\n",
    "for i in range(len(train_labels)-1):\n",
    "    cost_matrix = np.append(cost_matrix, [[15, 50, 0, 0]], axis=0)\n",
    "cost_matrix.shape"
   ]
  },
  {
   "cell_type": "code",
   "execution_count": 148,
   "metadata": {},
   "outputs": [
    {
     "data": {
      "text/plain": [
       "(15066,)"
      ]
     },
     "execution_count": 148,
     "metadata": {},
     "output_type": "execute_result"
    }
   ],
   "source": [
    "train_labels.shape"
   ]
  },
  {
   "cell_type": "code",
   "execution_count": 149,
   "metadata": {},
   "outputs": [
    {
     "data": {
      "text/plain": [
       "CostSensitiveRandomForestClassifier(combination='weighted_voting',\n",
       "                                    max_features=1.0, n_estimators=10, n_jobs=1,\n",
       "                                    pruned=False, verbose=False)"
      ]
     },
     "execution_count": 149,
     "metadata": {},
     "output_type": "execute_result"
    }
   ],
   "source": [
    "from costcla.models import CostSensitiveRandomForestClassifier\n",
    "\n",
    "CSRandomForest = CostSensitiveRandomForestClassifier(combination = 'weighted_voting', n_estimators = 10)\n",
    "CSRandomForest.fit(scaled_train, train_labels, cost_matrix)"
   ]
  },
  {
   "cell_type": "code",
   "execution_count": 150,
   "metadata": {},
   "outputs": [
    {
     "name": "stdout",
     "output_type": "stream",
     "text": [
      "Train:\n",
      "AUC:  0.5\n",
      "Accuracy:  0.5\n",
      "Precision:  0.0\n",
      "Recall:  0.0\n",
      "Confusion Matrix:\n",
      "Cost:  7200.0\n"
     ]
    },
    {
     "name": "stderr",
     "output_type": "stream",
     "text": [
      "C:\\Users\\ssear\\anaconda3\\lib\\site-packages\\sklearn\\metrics\\_classification.py:1272: UndefinedMetricWarning: Precision is ill-defined and being set to 0.0 due to no predicted samples. Use `zero_division` parameter to control this behavior.\n",
      "  _warn_prf(average, modifier, msg_start, len(result))\n"
     ]
    },
    {
     "data": {
      "image/png": "[encoded data removed]",
      "text/plain": [
       "<Figure size 432x288 with 2 Axes>"
      ]
     },
     "metadata": {
      "needs_background": "light"
     },
     "output_type": "display_data"
    }
   ],
   "source": [
    "train_predictions = CSRandomForest.predict_proba(scaled_train)[:,1]\n",
    "train_predictions[train_predictions > 0.5] = 1\n",
    "train_predictions[train_predictions <= 0.5] = 0\n",
    "print('Train:')\n",
    "CSRandomForest_train_AUC, CSRandomForest_train_accuracy, CSRandomForest_train_precision, CSRandomForest_train_recall, CSRandomForest_train_cost = report(train_labels, train_predictions)\n",
    "ensemble_train['CSRandomForest_train_predictions'] = train_predictions"
   ]
  },
  {
   "cell_type": "code",
   "execution_count": 151,
   "metadata": {},
   "outputs": [
    {
     "name": "stdout",
     "output_type": "stream",
     "text": [
      "Validation:\n",
      "AUC:  0.5\n",
      "Accuracy:  0.8825005226845076\n",
      "Precision:  0.0\n",
      "Recall:  0.0\n",
      "Confusion Matrix:\n",
      "Cost:  1691.99247334309\n"
     ]
    },
    {
     "name": "stderr",
     "output_type": "stream",
     "text": [
      "C:\\Users\\ssear\\anaconda3\\lib\\site-packages\\sklearn\\metrics\\_classification.py:1272: UndefinedMetricWarning: Precision is ill-defined and being set to 0.0 due to no predicted samples. Use `zero_division` parameter to control this behavior.\n",
      "  _warn_prf(average, modifier, msg_start, len(result))\n"
     ]
    },
    {
     "data": {
      "image/png": "[encoded data removed]",
      "text/plain": [
       "<Figure size 432x288 with 2 Axes>"
      ]
     },
     "metadata": {
      "needs_background": "light"
     },
     "output_type": "display_data"
    }
   ],
   "source": [
    "vd_predictions = CSRandomForest.predict_proba(scaled_vd)[:,1]\n",
    "vd_predictions[vd_predictions > 0.50] = 1\n",
    "vd_predictions[vd_predictions <= 0.50] = 0\n",
    "print('Validation:')\n",
    "CSRandomForest_vd_AUC, CSRandomForest_vd_accuracy, CSRandomForest_vd_precision, CSRandomForest_vd_recall, CSRandomForest_vd_cost = report(vd_labels, vd_predictions)\n",
    "ensemble_validation['CSRandomForest_validation_predictions'] = vd_predictions"
   ]
  },
  {
   "cell_type": "markdown",
   "metadata": {},
   "source": [
    "### Random Forest"
   ]
  },
  {
   "cell_type": "code",
   "execution_count": 211,
   "metadata": {},
   "outputs": [
    {
     "data": {
      "text/plain": [
       "RandomForestClassifier(max_depth=16, min_impurity_decrease=1e-05,\n",
       "                       random_state=10)"
      ]
     },
     "execution_count": 211,
     "metadata": {},
     "output_type": "execute_result"
    }
   ],
   "source": [
    "from sklearn.ensemble import RandomForestClassifier\n",
    "rf=RandomForestClassifier(min_impurity_decrease=0.00001, max_depth=16, random_state = 10)\n",
    "rf.fit(scaled_train, train_labels)"
   ]
  },
  {
   "cell_type": "code",
   "execution_count": 212,
   "metadata": {},
   "outputs": [
    {
     "name": "stdout",
     "output_type": "stream",
     "text": [
      "Train:\n",
      "AUC:  0.8469401300942518\n",
      "Accuracy:  0.846940130094252\n",
      "Precision:  0.8660876873511696\n",
      "Recall:  0.8207885304659498\n",
      "Confusion Matrix:\n",
      "Cost:  1403.2709411920882\n"
     ]
    },
    {
     "data": {
      "image/png": "[encoded data removed]",
      "text/plain": [
       "<Figure size 432x288 with 2 Axes>"
      ]
     },
     "metadata": {
      "needs_background": "light"
     },
     "output_type": "display_data"
    }
   ],
   "source": [
    "train_predictions = rf.predict_proba(scaled_train)[:,1]\n",
    "train_predictions[train_predictions > 0.5] = 1\n",
    "train_predictions[train_predictions <= 0.5] = 0\n",
    "print('Train:')\n",
    "rf_train_AUC, rf_train_accuracy, rf_train_precision, rf_train_recall, rf_train_cost = report(train_labels, train_predictions)\n",
    "ensemble_train['RF_train_predictions'] = train_predictions"
   ]
  },
  {
   "cell_type": "code",
   "execution_count": 213,
   "metadata": {},
   "outputs": [
    {
     "name": "stdout",
     "output_type": "stream",
     "text": [
      "Validation:\n",
      "AUC:  0.6268882245272536\n",
      "Accuracy:  0.6359328176179525\n",
      "Precision:  0.18478260869565216\n",
      "Recall:  0.6150652431791221\n",
      "Confusion Matrix:\n",
      "Cost:  1218.8375496550282\n"
     ]
    },
    {
     "data": {
      "image/png": "[encoded data removed]",
      "text/plain": [
       "<Figure size 432x288 with 2 Axes>"
      ]
     },
     "metadata": {
      "needs_background": "light"
     },
     "output_type": "display_data"
    }
   ],
   "source": [
    "vd_predictions = rf.predict_proba(scaled_vd)[:,1]\n",
    "vd_predictions[vd_predictions > 0.50] = 1\n",
    "vd_predictions[vd_predictions <= 0.50] = 0\n",
    "print('Validation:')\n",
    "rf_vd_AUC, rf_vd_accuracy, rf_vd_precision, rf_vd_recall, rf_vd_cost = report(vd_labels, vd_predictions)\n",
    "ensemble_validation['RF_validation_predictions'] = vd_predictions"
   ]
  },
  {
   "cell_type": "markdown",
   "metadata": {},
   "source": [
    "### Gradient Boosting Classifier"
   ]
  },
  {
   "cell_type": "code",
   "execution_count": 256,
   "metadata": {},
   "outputs": [
    {
     "data": {
      "text/plain": [
       "GradientBoostingClassifier(learning_rate=1.0, n_estimators=300, random_state=42)"
      ]
     },
     "execution_count": 256,
     "metadata": {},
     "output_type": "execute_result"
    }
   ],
   "source": [
    "from sklearn.ensemble import GradientBoostingClassifier\n",
    "gbc = GradientBoostingClassifier(n_estimators=300, learning_rate=1.0, random_state=42)\n",
    "gbc.fit(scaled_train, train_labels)"
   ]
  },
  {
   "cell_type": "code",
   "execution_count": 257,
   "metadata": {},
   "outputs": [
    {
     "name": "stdout",
     "output_type": "stream",
     "text": [
      "Train:\n",
      "AUC:  0.7926456922872694\n",
      "Accuracy:  0.7926456922872693\n",
      "Precision:  0.7979456683335586\n",
      "Recall:  0.7837514934289128\n",
      "Confusion Matrix:\n",
      "Cost:  1733.618744192221\n"
     ]
    },
    {
     "data": {
      "image/png": "[encoded data removed]",
      "text/plain": [
       "<Figure size 432x288 with 2 Axes>"
      ]
     },
     "metadata": {
      "needs_background": "light"
     },
     "output_type": "display_data"
    }
   ],
   "source": [
    "train_predictions = gbc.predict_proba(scaled_train)[:,1]\n",
    "train_predictions[train_predictions > 0.5] = 1\n",
    "train_predictions[train_predictions <= 0.5] = 0\n",
    "print('Train:')\n",
    "gbc_train_AUC, gbc_train_accuracy, gbc_train_precision, gbc_train_recall, gbc_train_cost = report(train_labels, train_predictions)\n",
    "ensemble_train['GBC_train_predictions'] = train_predictions"
   ]
  },
  {
   "cell_type": "code",
   "execution_count": 258,
   "metadata": {},
   "outputs": [
    {
     "name": "stdout",
     "output_type": "stream",
     "text": [
      "Validation:\n",
      "AUC:  0.5857345481820969\n",
      "Accuracy:  0.5955118823611402\n",
      "Precision:  0.1596694214876033\n",
      "Recall:  0.5729537366548043\n",
      "Confusion Matrix:\n",
      "Cost:  1353.2315840825145\n"
     ]
    },
    {
     "data": {
      "image/png": "[encoded data removed]",
      "text/plain": [
       "<Figure size 432x288 with 2 Axes>"
      ]
     },
     "metadata": {
      "needs_background": "light"
     },
     "output_type": "display_data"
    }
   ],
   "source": [
    "vd_predictions = gbc.predict_proba(scaled_vd)[:,1]\n",
    "vd_predictions[vd_predictions > 0.5] = 1\n",
    "vd_predictions[vd_predictions <= 0.5] = 0\n",
    "print('Validation:')\n",
    "gbc_vd_AUC, gbc_vd_accuracy, gbc_vd_precision, gbc_vd_recall, gbc_vd_cost = report(vd_labels, vd_predictions)\n",
    "ensemble_validation['GBC_validation_predictions'] = vd_predictions"
   ]
  },
  {
   "cell_type": "markdown",
   "metadata": {},
   "source": [
    "### Ensemble"
   ]
  },
  {
   "cell_type": "code",
   "execution_count": 88,
   "metadata": {},
   "outputs": [],
   "source": [
    "ensemble_train['Avg_All'] = ensemble_train[['KNN_train_predictions', 'LG_train_predictions',\\\n",
    "                                           'SGD_train_predictions', \\\n",
    "                                           'DTC_train_predictions', 'GBC_train_predictions']].mean(axis=1)\n",
    "ensemble_train['Avg_All'] = ensemble_train['Avg_All'].round(0)"
   ]
  },
  {
   "cell_type": "code",
   "execution_count": 89,
   "metadata": {},
   "outputs": [
    {
     "name": "stdout",
     "output_type": "stream",
     "text": [
      "Training Data\n",
      "AUC:  0.663878932696137\n",
      "Accuracy:  0.663878932696137\n",
      "Precision:  0.6627125345986556\n",
      "Recall:  0.667463162086818\n",
      "Confusion Matrix:\n",
      "Cost:  2696.6029470330545\n"
     ]
    },
    {
     "data": {
      "image/png": "[encoded data removed]",
      "text/plain": [
       "<Figure size 432x288 with 2 Axes>"
      ]
     },
     "metadata": {
      "needs_background": "light"
     },
     "output_type": "display_data"
    }
   ],
   "source": [
    "print('Training Data')\n",
    "ensemble_train_AUC, ensemble_train_accuracy, ensemble_train_precision, ensemble_train_recall, ensemble_train_cost\\\n",
    "= report(ensemble_train.Truth, ensemble_train.Avg_All)"
   ]
  },
  {
   "cell_type": "code",
   "execution_count": 90,
   "metadata": {},
   "outputs": [],
   "source": [
    "ensemble_train.to_excel('train__ensemble_labels.xlsx')"
   ]
  },
  {
   "cell_type": "code",
   "execution_count": 91,
   "metadata": {},
   "outputs": [],
   "source": [
    "ensemble_validation['Avg_All'] = ensemble_validation[['KNN_validation_predictions', 'LG_validation_predictions',\\\n",
    "                                           'SGD_validation_predictions',\\\n",
    "                                           'DTC_validation_predictions', 'GBC_validation_predictions']].mean(axis=1)\n",
    "ensemble_validation['Avg_All'] = ensemble_validation['Avg_All'].round(0)"
   ]
  },
  {
   "cell_type": "code",
   "execution_count": 92,
   "metadata": {},
   "outputs": [
    {
     "name": "stdout",
     "output_type": "stream",
     "text": [
      "Validation Data\n",
      "AUC:  0.6207025511880242\n",
      "Accuracy:  0.6104955049132343\n",
      "Precision:  0.17695745737460686\n",
      "Recall:  0.6340450771055753\n",
      "Confusion Matrix:\n",
      "Cost:  1235.9718447278556\n"
     ]
    },
    {
     "data": {
      "image/png": "[encoded data removed]",
      "text/plain": [
       "<Figure size 432x288 with 2 Axes>"
      ]
     },
     "metadata": {
      "needs_background": "light"
     },
     "output_type": "display_data"
    }
   ],
   "source": [
    "print('Validation Data')\n",
    "ensemble_vd_AUC, ensemble_vd_accuracy, ensemble_vd_precision, ensemble_vd_recall, ensemble_vd_cost\\\n",
    "= report(ensemble_validation.Truth, ensemble_validation.Avg_All)"
   ]
  },
  {
   "cell_type": "code",
   "execution_count": 93,
   "metadata": {},
   "outputs": [],
   "source": [
    "ensemble_validation.to_excel('validation__ensemble_labels.xlsx')"
   ]
  },
  {
   "cell_type": "markdown",
   "metadata": {},
   "source": [
    "# Compare Results"
   ]
  },
  {
   "cell_type": "code",
   "execution_count": 259,
   "metadata": {},
   "outputs": [],
   "source": [
    "models = ['KNN', 'LogReg', 'SGD', 'NB', 'DTC', 'RF', 'GBC', 'Ensemble']\n",
    "train_auc = [knn_train_AUC, lr_train_AUC, sgd_train_AUC, nb_train_AUC, dt_train_AUC, rf_train_AUC, gbc_train_AUC, ensemble_train_AUC]\n",
    "train_accuracy = [knn_train_accuracy, lr_train_accuracy, sgd_train_accuracy, nb_train_accuracy, dt_train_accuracy, rf_train_accuracy, gbc_train_accuracy, ensemble_train_accuracy]\n",
    "train_precision = [knn_train_precision, lr_train_precision, sgd_train_precision, nb_train_precision, dt_train_precision, rf_train_precision, gbc_train_precision, ensemble_train_precision]\n",
    "train_recall = [knn_train_recall, lr_train_recall, sgd_train_recall, nb_train_recall, dt_train_recall, rf_train_recall, gbc_train_recall, ensemble_train_recall]\n",
    "train_cost = [knn_train_cost, lr_train_cost, sgd_train_cost, nb_train_cost, dt_train_cost, rf_train_cost, gbc_train_cost, ensemble_train_cost]\n",
    "vd_auc = [knn_vd_AUC, lr_vd_AUC, sgd_vd_AUC, nb_vd_AUC, dt_vd_AUC, rf_vd_AUC, gbc_vd_AUC, ensemble_vd_AUC]\n",
    "vd_accuracy = [knn_vd_accuracy, lr_vd_accuracy, sgd_vd_accuracy, nb_vd_accuracy, dt_vd_accuracy, rf_vd_accuracy, gbc_vd_accuracy, ensemble_vd_accuracy]\n",
    "vd_precision = [knn_vd_precision, lr_vd_precision, sgd_vd_precision, nb_vd_precision, dt_vd_precision, rf_vd_precision, gbc_vd_precision, ensemble_vd_precision]\n",
    "vd_recall = [knn_vd_recall, lr_vd_recall, sgd_vd_recall, nb_vd_recall, dt_vd_recall, rf_vd_recall, gbc_vd_recall, ensemble_vd_recall]\n",
    "vd_cost = [knn_vd_cost, lr_vd_cost, sgd_vd_cost, nb_vd_cost, dt_vd_cost, rf_vd_cost, gbc_vd_cost, ensemble_vd_cost]"
   ]
  },
  {
   "cell_type": "code",
   "execution_count": 260,
   "metadata": {},
   "outputs": [],
   "source": [
    "results_df = pd.DataFrame({'Model':models, 'Train AUC': train_auc, 'Train Accuracy': train_accuracy,\\\n",
    "                           'Train Precision': train_precision, 'Train Recall': train_recall,'Train Cost': train_cost,\\\n",
    "                           'Validation AUC': vd_auc, 'Validation Accuracy': vd_accuracy,\\\n",
    "                           'Validation Precision': vd_precision, 'Validation Recall': vd_recall,\\\n",
    "                           'Validation Cost': vd_cost})"
   ]
  },
  {
   "cell_type": "code",
   "execution_count": 261,
   "metadata": {},
   "outputs": [
    {
     "data": {
      "text/html": [
       "<div>\n",
       "<style scoped>\n",
       "    .dataframe tbody tr th:only-of-type {\n",
       "        vertical-align: middle;\n",
       "    }\n",
       "\n",
       "    .dataframe tbody tr th {\n",
       "        vertical-align: top;\n",
       "    }\n",
       "\n",
       "    .dataframe thead th {\n",
       "        text-align: right;\n",
       "    }\n",
       "</style>\n",
       "<table border=\"1\" class=\"dataframe\">\n",
       "  <thead>\n",
       "    <tr style=\"text-align: right;\">\n",
       "      <th></th>\n",
       "      <th>Model</th>\n",
       "      <th>Train AUC</th>\n",
       "      <th>Train Accuracy</th>\n",
       "      <th>Train Precision</th>\n",
       "      <th>Train Recall</th>\n",
       "      <th>Train Cost</th>\n",
       "      <th>Validation AUC</th>\n",
       "      <th>Validation Accuracy</th>\n",
       "      <th>Validation Precision</th>\n",
       "      <th>Validation Recall</th>\n",
       "      <th>Validation Cost</th>\n",
       "    </tr>\n",
       "  </thead>\n",
       "  <tbody>\n",
       "    <tr>\n",
       "      <th>5</th>\n",
       "      <td>RF</td>\n",
       "      <td>0.846940</td>\n",
       "      <td>0.846940</td>\n",
       "      <td>0.866088</td>\n",
       "      <td>0.820789</td>\n",
       "      <td>1403.270941</td>\n",
       "      <td>0.626888</td>\n",
       "      <td>0.635933</td>\n",
       "      <td>0.184783</td>\n",
       "      <td>0.615065</td>\n",
       "      <td>1218.837550</td>\n",
       "    </tr>\n",
       "    <tr>\n",
       "      <th>7</th>\n",
       "      <td>Ensemble</td>\n",
       "      <td>0.663879</td>\n",
       "      <td>0.663879</td>\n",
       "      <td>0.662713</td>\n",
       "      <td>0.667463</td>\n",
       "      <td>2696.602947</td>\n",
       "      <td>0.620703</td>\n",
       "      <td>0.610496</td>\n",
       "      <td>0.176957</td>\n",
       "      <td>0.634045</td>\n",
       "      <td>1235.971845</td>\n",
       "    </tr>\n",
       "    <tr>\n",
       "      <th>2</th>\n",
       "      <td>SGD</td>\n",
       "      <td>0.621266</td>\n",
       "      <td>0.621266</td>\n",
       "      <td>0.636039</td>\n",
       "      <td>0.566972</td>\n",
       "      <td>3406.552502</td>\n",
       "      <td>0.611095</td>\n",
       "      <td>0.649801</td>\n",
       "      <td>0.180723</td>\n",
       "      <td>0.560498</td>\n",
       "      <td>1275.065858</td>\n",
       "    </tr>\n",
       "    <tr>\n",
       "      <th>4</th>\n",
       "      <td>DTC</td>\n",
       "      <td>0.666799</td>\n",
       "      <td>0.666799</td>\n",
       "      <td>0.692863</td>\n",
       "      <td>0.599230</td>\n",
       "      <td>3121.955396</td>\n",
       "      <td>0.603574</td>\n",
       "      <td>0.656492</td>\n",
       "      <td>0.178593</td>\n",
       "      <td>0.534401</td>\n",
       "      <td>1301.855182</td>\n",
       "    </tr>\n",
       "    <tr>\n",
       "      <th>1</th>\n",
       "      <td>LogReg</td>\n",
       "      <td>0.595911</td>\n",
       "      <td>0.595911</td>\n",
       "      <td>0.561726</td>\n",
       "      <td>0.872826</td>\n",
       "      <td>1521.744325</td>\n",
       "      <td>0.580844</td>\n",
       "      <td>0.368179</td>\n",
       "      <td>0.140911</td>\n",
       "      <td>0.858837</td>\n",
       "      <td>1333.963342</td>\n",
       "    </tr>\n",
       "    <tr>\n",
       "      <th>0</th>\n",
       "      <td>KNN</td>\n",
       "      <td>0.607593</td>\n",
       "      <td>0.607593</td>\n",
       "      <td>0.622118</td>\n",
       "      <td>0.548122</td>\n",
       "      <td>3549.836718</td>\n",
       "      <td>0.588592</td>\n",
       "      <td>0.627779</td>\n",
       "      <td>0.165722</td>\n",
       "      <td>0.537367</td>\n",
       "      <td>1348.566451</td>\n",
       "    </tr>\n",
       "    <tr>\n",
       "      <th>6</th>\n",
       "      <td>GBC</td>\n",
       "      <td>0.792646</td>\n",
       "      <td>0.792646</td>\n",
       "      <td>0.797946</td>\n",
       "      <td>0.783751</td>\n",
       "      <td>1733.618744</td>\n",
       "      <td>0.585735</td>\n",
       "      <td>0.595512</td>\n",
       "      <td>0.159669</td>\n",
       "      <td>0.572954</td>\n",
       "      <td>1353.231584</td>\n",
       "    </tr>\n",
       "    <tr>\n",
       "      <th>3</th>\n",
       "      <td>NB</td>\n",
       "      <td>0.506505</td>\n",
       "      <td>0.506505</td>\n",
       "      <td>0.503322</td>\n",
       "      <td>0.985663</td>\n",
       "      <td>968.887561</td>\n",
       "      <td>0.502889</td>\n",
       "      <td>0.136665</td>\n",
       "      <td>0.118113</td>\n",
       "      <td>0.981613</td>\n",
       "      <td>1564.001673</td>\n",
       "    </tr>\n",
       "  </tbody>\n",
       "</table>\n",
       "</div>"
      ],
      "text/plain": [
       "      Model  Train AUC  Train Accuracy  Train Precision  Train Recall  \\\n",
       "5        RF   0.846940        0.846940         0.866088      0.820789   \n",
       "7  Ensemble   0.663879        0.663879         0.662713      0.667463   \n",
       "2       SGD   0.621266        0.621266         0.636039      0.566972   \n",
       "4       DTC   0.666799        0.666799         0.692863      0.599230   \n",
       "1    LogReg   0.595911        0.595911         0.561726      0.872826   \n",
       "0       KNN   0.607593        0.607593         0.622118      0.548122   \n",
       "6       GBC   0.792646        0.792646         0.797946      0.783751   \n",
       "3        NB   0.506505        0.506505         0.503322      0.985663   \n",
       "\n",
       "    Train Cost  Validation AUC  Validation Accuracy  Validation Precision  \\\n",
       "5  1403.270941        0.626888             0.635933              0.184783   \n",
       "7  2696.602947        0.620703             0.610496              0.176957   \n",
       "2  3406.552502        0.611095             0.649801              0.180723   \n",
       "4  3121.955396        0.603574             0.656492              0.178593   \n",
       "1  1521.744325        0.580844             0.368179              0.140911   \n",
       "0  3549.836718        0.588592             0.627779              0.165722   \n",
       "6  1733.618744        0.585735             0.595512              0.159669   \n",
       "3   968.887561        0.502889             0.136665              0.118113   \n",
       "\n",
       "   Validation Recall  Validation Cost  \n",
       "5           0.615065      1218.837550  \n",
       "7           0.634045      1235.971845  \n",
       "2           0.560498      1275.065858  \n",
       "4           0.534401      1301.855182  \n",
       "1           0.858837      1333.963342  \n",
       "0           0.537367      1348.566451  \n",
       "6           0.572954      1353.231584  \n",
       "3           0.981613      1564.001673  "
      ]
     },
     "execution_count": 261,
     "metadata": {},
     "output_type": "execute_result"
    }
   ],
   "source": [
    "results_df.sort_values(by = 'Validation Cost', ascending=True)"
   ]
  },
  {
   "cell_type": "code",
   "execution_count": null,
   "metadata": {},
   "outputs": [],
   "source": []
  },
  {
   "cell_type": "code",
   "execution_count": null,
   "metadata": {},
   "outputs": [],
   "source": []
  }
 ],
 "metadata": {
  "kernelspec": {
   "display_name": "Python 3",
   "language": "python",
   "name": "python3"
  },
  "language_info": {
   "codemirror_mode": {
    "name": "ipython",
    "version": 3
   },
   "file_extension": ".py",
   "mimetype": "text/x-python",
   "name": "python",
   "nbconvert_exporter": "python",
   "pygments_lexer": "ipython3",
   "version": "3.6.10"
  }
 },
 "nbformat": 4,
 "nbformat_minor": 4
}
