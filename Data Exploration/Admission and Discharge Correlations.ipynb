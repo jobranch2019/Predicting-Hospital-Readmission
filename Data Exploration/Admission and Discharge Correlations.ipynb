{
 "cells": [
  {
   "cell_type": "code",
   "execution_count": 1,
   "metadata": {},
   "outputs": [],
   "source": [
    "import pandas as pd"
   ]
  },
  {
   "cell_type": "code",
   "execution_count": 2,
   "metadata": {},
   "outputs": [
    {
     "name": "stderr",
     "output_type": "stream",
     "text": [
      "C:\\Users\\ssear\\anaconda3\\envs\\py36\\lib\\site-packages\\IPython\\core\\interactiveshell.py:3072: DtypeWarning: Columns (10) have mixed types.Specify dtype option on import or set low_memory=False.\n",
      "  interactivity=interactivity, compiler=compiler, result=result)\n",
      "C:\\Users\\ssear\\anaconda3\\envs\\py36\\lib\\site-packages\\ipykernel_launcher.py:4: SettingWithCopyWarning: \n",
      "A value is trying to be set on a copy of a slice from a DataFrame\n",
      "\n",
      "See the caveats in the documentation: https://pandas.pydata.org/pandas-docs/stable/user_guide/indexing.html#returning-a-view-versus-a-copy\n",
      "  after removing the cwd from sys.path.\n",
      "C:\\Users\\ssear\\anaconda3\\envs\\py36\\lib\\site-packages\\ipykernel_launcher.py:5: SettingWithCopyWarning: \n",
      "A value is trying to be set on a copy of a slice from a DataFrame\n",
      "\n",
      "See the caveats in the documentation: https://pandas.pydata.org/pandas-docs/stable/user_guide/indexing.html#returning-a-view-versus-a-copy\n",
      "  \"\"\"\n",
      "C:\\Users\\ssear\\anaconda3\\envs\\py36\\lib\\site-packages\\ipykernel_launcher.py:6: SettingWithCopyWarning: \n",
      "A value is trying to be set on a copy of a slice from a DataFrame\n",
      "\n",
      "See the caveats in the documentation: https://pandas.pydata.org/pandas-docs/stable/user_guide/indexing.html#returning-a-view-versus-a-copy\n",
      "  \n"
     ]
    }
   ],
   "source": [
    "data = pd.read_csv('dataset_diabetes/diabetic_data.csv', na_values='?')\n",
    "\n",
    "# Convert readmitted Variable to 0 and 1\n",
    "data.readmitted[data.readmitted == 'NO'] = 0\n",
    "data.readmitted[data.readmitted == '>30'] = 0\n",
    "data.readmitted[data.readmitted == '<30'] = 1\n",
    "\n",
    "# New Dataframe with just variables we are looking at\n",
    "data_new = pd.DataFrame({'admission_type_id': data.admission_type_id,\\\n",
    "                         'discharge_disposition_id':data.discharge_disposition_id,\\\n",
    "                         'readmitted':data.readmitted})\n",
    "\n",
    "# Drop NAs\n",
    "data_new.dropna(axis=0, how='any', inplace=True)\n",
    "\n",
    "# Explode Categorical Variable into Separate Columns\n",
    "data_new = pd.get_dummies(data_new.astype(str))\n",
    "\n",
    "# Create Correlation Matrix\n",
    "cor_matrix = data_new.corr()\n",
    "\n",
    "# Export to CSV\n",
    "cor_matrix.to_csv('AdmissionDischargeCorrelationMatrix.csv')"
   ]
  }
 ],
 "metadata": {
  "kernelspec": {
   "display_name": "Python 3",
   "language": "python",
   "name": "python3"
  },
  "language_info": {
   "codemirror_mode": {
    "name": "ipython",
    "version": 3
   },
   "file_extension": ".py",
   "mimetype": "text/x-python",
   "name": "python",
   "nbconvert_exporter": "python",
   "pygments_lexer": "ipython3",
   "version": "3.6.10"
  }
 },
 "nbformat": 4,
 "nbformat_minor": 4
}
